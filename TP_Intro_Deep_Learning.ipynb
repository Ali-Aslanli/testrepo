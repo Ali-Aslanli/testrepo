{
  "cells": [
    {
      "cell_type": "markdown",
      "metadata": {
        "id": "view-in-github",
        "colab_type": "text"
      },
      "source": [
        "<a href=\"https://colab.research.google.com/github/Ali-Aslanli/testrepo/blob/main/TP_Intro_Deep_Learning.ipynb\" target=\"_parent\"><img src=\"https://colab.research.google.com/assets/colab-badge.svg\" alt=\"Open In Colab\"/></a>"
      ]
    },
    {
      "cell_type": "markdown",
      "metadata": {
        "id": "_PtmNbtJtSRS"
      },
      "source": [
        "Bonjour !\n",
        "\n",
        "Dans ce notebook, nous allons découvrir comment créer et utiliser un réseau de neurones pour classifier deux espèces de poissons présentes en Méditerranée : le **rouget** et la **brème de mer**.\n",
        "\n"
      ]
    },
    {
      "cell_type": "markdown",
      "metadata": {
        "id": "zgOCjYFvzucP"
      },
      "source": [
        "Pour ce faire nous allons nous baser sur des images issues d'un supermarché en Turquie.\n",
        "Ces données sont issues d'une étude collaborative industrie-université, disponible ici : https://ieeexplore.ieee.org/document/9259867\n",
        "\n",
        "Ce sont des données labellisées, i.e chaque image est annotée, selon que c'est un rouget ou une brème.\n",
        "\n",
        "Le texte en vert (précédé d'un #) correspond aux commentaires,\n",
        "il est uniquement là pour aider à la compréhension du code."
      ]
    },
    {
      "cell_type": "markdown",
      "source": [
        "\n",
        "Dans un premier temps, on importe les librairies Python nécessaires : on retrouve les bibliothèques classiques **numpy** et **pandas** pour le traitement de données, **matplotlib** pour l'affichage graphique, ainsi que **torch** et **torchvision** pour le deep learning."
      ],
      "metadata": {
        "id": "8_s1Q1yTw6K0"
      }
    },
    {
      "cell_type": "code",
      "source": [
        "import os\n",
        "from google.colab import files\n",
        "import sys\n",
        "\n",
        "import numpy as np\n",
        "import pandas as pd\n",
        "import matplotlib.pyplot as plt\n",
        "\n",
        "import zipfile\n",
        "import PIL\n",
        "from PIL import Image\n",
        "\n",
        "import torch\n",
        "import torchvision\n",
        "import torchvision.transforms as T\n",
        "from torch.utils.data import Dataset, DataLoader\n",
        "import torch.nn as nn\n",
        "import torch.nn.functional as F\n",
        "from torchsummary import summary\n",
        "\n",
        "from pathlib import Path"
      ],
      "metadata": {
        "id": "_TOwDaX7w2rf"
      },
      "execution_count": null,
      "outputs": []
    },
    {
      "cell_type": "markdown",
      "metadata": {
        "id": "4Y8PZOPmVwga"
      },
      "source": [
        "# Acquisition des données"
      ]
    },
    {
      "cell_type": "markdown",
      "metadata": {
        "id": "iRQ9CEcK-WhS"
      },
      "source": [
        "On importe un dossier depuis le Gitlab de l'ISDM où se trouve notamment le dataset (jeu de données) qui contient les images de poissons :"
      ]
    },
    {
      "cell_type": "code",
      "execution_count": null,
      "metadata": {
        "id": "KPw6ZA7B_CLI"
      },
      "outputs": [],
      "source": [
        "!git clone https://forgemia.inra.fr/isdm-formation/Formation-Introduction-Deep-Learning.git"
      ]
    },
    {
      "cell_type": "code",
      "execution_count": null,
      "metadata": {
        "id": "vTkFb1dj5p7c"
      },
      "outputs": [],
      "source": [
        "sys.path.append('/content/Formation-Introduction-Deep-Learning/Fish Dataset')\n",
        "from mcq import mcq                                                             # importation pour avoir des qcm"
      ]
    },
    {
      "cell_type": "code",
      "execution_count": null,
      "metadata": {
        "id": "e-aECJ4An2uW"
      },
      "outputs": [],
      "source": [
        "# Seed aléatoire qu'on fixe pour revenir sur les même résultats\n",
        "\n",
        "import random\n",
        "\n",
        "def set_all_seeds(seed):\n",
        "    os.environ[\"PL_GLOBAL_SEED\"] = str(seed)\n",
        "    random.seed(seed)\n",
        "    np.random.seed(seed)\n",
        "    torch.manual_seed(seed)\n",
        "    torch.cuda.manual_seed_all(seed)\n",
        "\n",
        "RANDOM_SEED = 64\n",
        "\n",
        "set_all_seeds(RANDOM_SEED)"
      ]
    },
    {
      "cell_type": "markdown",
      "metadata": {
        "id": "Bf6lKllvTTM0"
      },
      "source": [
        "# Classification de poissons"
      ]
    },
    {
      "cell_type": "markdown",
      "metadata": {
        "id": "6YVpjWhWT1X0"
      },
      "source": [
        "## **Préparation du dataset**"
      ]
    },
    {
      "cell_type": "markdown",
      "metadata": {
        "id": "D6zljDEEfcVs"
      },
      "source": [
        "On définit ici les espèces à classifier : le **rouget** et la **brème de mer** comme dit précédemment."
      ]
    },
    {
      "cell_type": "code",
      "execution_count": null,
      "metadata": {
        "id": "D4M8dJGlYG0o"
      },
      "outputs": [],
      "source": [
        "data_dir = \"\"\"/content/Formation-Introduction-Deep-Learning/Fish Dataset\"\"\"     # Chemin de notre dataset, importé depuis le GitHub\n",
        "classes = [\"Red Mullet\",\"Red Sea Bream\"]                                        # Nos deux poissons à classifier : rouget et brème de mer"
      ]
    },
    {
      "cell_type": "markdown",
      "metadata": {
        "id": "kPVi1PIhf0MP"
      },
      "source": [
        "On se procure le nombre d'exemple d'une classe (c'est le même pour les deux classes)."
      ]
    },
    {
      "cell_type": "code",
      "execution_count": null,
      "metadata": {
        "id": "ounP4liQJYnV"
      },
      "outputs": [],
      "source": [
        "_, _, files = next(os.walk(f\"{data_dir}/{classes[0]}\"))              # On récupère les fichiers de la classe \"0\", donc notre rouget, dans une variable \"files\"\n",
        "file_count = len(files)                                                         # on récupère la taille de notre objet \"files\""
      ]
    },
    {
      "cell_type": "markdown",
      "metadata": {
        "id": "bSL4tBmR4nS8"
      },
      "source": [
        "**QCM**"
      ]
    },
    {
      "cell_type": "code",
      "execution_count": null,
      "metadata": {
        "id": "a-F5qmmw4pwD"
      },
      "outputs": [],
      "source": [
        "mcq(1)"
      ]
    },
    {
      "cell_type": "code",
      "execution_count": null,
      "metadata": {
        "id": "5JDZVnJOdrwK"
      },
      "outputs": [],
      "source": [
        "# Utilisez cette cellule pour trouver la réponse\n"
      ]
    },
    {
      "cell_type": "markdown",
      "metadata": {
        "id": "bLs9y5JnzDhD"
      },
      "source": [
        "On initialise notre DataFrame Pandas à partir de nos images, i.e un format **pratique** et **compatible** pour stocker et utiliser nos données."
      ]
    },
    {
      "cell_type": "code",
      "execution_count": null,
      "metadata": {
        "id": "-lLu_XWhJo_x"
      },
      "outputs": [],
      "source": [
        "image_paths = []\n",
        "image_classes = np.array([[cls]*file_count for cls in classes]).reshape(-1)     # On crée un tableau de dimension (2000,), avec 1000 entités pour chacune des deux classes\n",
        "\n",
        "for cls in classes:\n",
        "    image_paths.extend(os.path.join(data_dir, cls, i) for i in os.listdir(os.path.join(data_dir, cls)))\n",
        "\n",
        "data = pd.DataFrame({'path':image_paths, 'class':image_classes, })              # On crée le DataFrame Pandas\n",
        "print(data)"
      ]
    },
    {
      "cell_type": "markdown",
      "metadata": {
        "id": "thLq3qh0zY78"
      },
      "source": [
        "Ce DataFrame comporte deux colonnes, le chemin d'une l'image et sa classe associée (label)."
      ]
    },
    {
      "cell_type": "markdown",
      "metadata": {
        "id": "qvcGjXpwgX9S"
      },
      "source": [
        "On définit une fonction de transformation à appliquer à nos images, pour qu'elles puissent être intégrées par le réseau de neurones. Cet fonction comprend notamment la conversion de l'image en tenseur."
      ]
    },
    {
      "cell_type": "code",
      "execution_count": null,
      "metadata": {
        "id": "yVWWW2FOKGhI"
      },
      "outputs": [],
      "source": [
        "# Transformations qu'on souhaite appliquer au DataSet\n",
        "\n",
        "transform = T.Compose([\n",
        "        #T.Resize((224,224)),                                                   # Nos images sont déjà de taille 224 x 224, donc pas besoin de cette ligne\n",
        "        T.ToTensor()])                                                          # Conversion en tenseur"
      ]
    },
    {
      "cell_type": "markdown",
      "metadata": {
        "id": "6ImZyPKb41Bp"
      },
      "source": [
        "Un tenseur est un objet mathématique permettant de généraliser les objets comme les scalaires, vecteurs, matrices, ... pour de plus grandes dimensions. Pour faire simple, un tenseur est un tableau multi-dimensionnelle.\n",
        "\n",
        "Cette multi-dimensionalité permet de traiter des données comme nos images qui ont 3 dimensions (hauteur,largeur, et nombres de canaux de couleurs), mais aussi d'autres types : des vidéos (on rajoute la dimension du temps), du texte, de l'audio ..."
      ]
    },
    {
      "cell_type": "markdown",
      "metadata": {
        "id": "2LoFgs_OgyLg"
      },
      "source": [
        "On crée une instance de DataSet Pytorch, à partir d'une classe Dataset définie par nos soins."
      ]
    },
    {
      "cell_type": "code",
      "execution_count": null,
      "metadata": {
        "id": "TQoVAHn1KGor"
      },
      "outputs": [],
      "source": [
        "# On crée le DataSet Torch à partir de notre Dataset Pandas\n",
        "\n",
        "str_to_int = {                                                                  # Dictionnaire python contenant nos classes et l'indice associé\n",
        " 'Red Mullet': 0,\n",
        " 'Red Sea Bream': 1}\n",
        "\n",
        "class MarketFishDataset(Dataset):\n",
        "    def __init__(self, data, root_dir, transform=T.ToTensor()):                 # Le constructeur de classe prends trois paramètres\n",
        "        self.data = data                                                        # dataFrame contenant les données\n",
        "        self.root_dir = root_dir                                                # répertoire racine où se trouvent les données\n",
        "        self.transform = transform                                              # une transformation à appliquer sur les images\n",
        "\n",
        "    def __len__(self):                                                          # méthode qui renvoie la longueur de l'ensemble de données, i.e le nombre d'échantillons dans le dataset\n",
        "        return len(self.data)\n",
        "\n",
        "    def __getitem__(self, idx):                                                 # méthode pour indexer les données : prends un index en entrée et renvoie l'échantillon sous forme de tuple\n",
        "        if torch.is_tensor(idx):                                                # utilisation d'un index donné\n",
        "            idx = idx.tolist()\n",
        "        img_name = self.data.iloc[idx, 0]                                       # récupération fichier image\n",
        "        image = Image.open(img_name)                                            # chargement de l'image à partir du fichier\n",
        "        y_label = torch.tensor(str_to_int[self.data.iloc[idx, 1]])              # récupération du label/étiquette de l'image, et conversion en entier avec le dictionnaire str_to_int\n",
        "        if self.transform:                                                      # application de la transformation si spécifié\n",
        "            image = self.transform(image)\n",
        "        return (image, y_label)                                                 # renvoi du tuple contenant (image,étiquette)\n",
        "\n",
        "dataset = MarketFishDataset(                                                    # création d'une instance de MarketFishDataset nommée \"dataset\"\n",
        "    data=data,\n",
        "    root_dir=data_dir,\n",
        "    transform=transform)"
      ]
    },
    {
      "cell_type": "markdown",
      "metadata": {
        "id": "AhWgxwidTbKX"
      },
      "source": [
        "## **Visualisation du jeu de données**"
      ]
    },
    {
      "cell_type": "markdown",
      "metadata": {
        "id": "LlTyKHfY1Mwe"
      },
      "source": [
        "Le code suivant affiche l'image ainsi que sa classe, pour un indice donnée."
      ]
    },
    {
      "cell_type": "code",
      "execution_count": null,
      "metadata": {
        "id": "Jx0zdfl0P-DY"
      },
      "outputs": [],
      "source": [
        "Indice = 1991                                                                   # Choisir un indice entre 0 et 1999 pour visualiser une image dans le dataset\n",
        "                                                                                # Entre 0 et 1999 car c'est la taille de notre dataset\n",
        "                                                                                # (l'indexation Python commençant à l'indice 0)\n",
        "from matplotlib import pyplot as plt\n",
        "img, lab = dataset[Indice]\n",
        "plt.imshow(img.numpy().transpose((1, 2, 0)))\n",
        "plt.title(classes[int(lab)])\n",
        "plt.axis('off')\n",
        "plt.show()"
      ]
    },
    {
      "cell_type": "markdown",
      "metadata": {
        "id": "oWIAKlT2g-ki"
      },
      "source": [
        "Quelques lignes de codes pour visualiser plusieurs images à la fois de notre dataset :"
      ]
    },
    {
      "cell_type": "code",
      "execution_count": null,
      "metadata": {
        "id": "AUOUT12C4Eci"
      },
      "outputs": [],
      "source": [
        "def plot_img(data, n_images, images_per_row, figsize=(10, 10)):\n",
        "    total_rows = (2 * n_images + images_per_row - 1) // images_per_row          # Calcul du nombre total de lignes nécessaires\n",
        "    plt.figure(figsize=figsize)                                                 # Taille de la figure\n",
        "    add_indice = int(len(data)/2)\n",
        "\n",
        "    for i in range(n_images):\n",
        "\n",
        "        # Première séquence d'images d'indices entre 0 et n (visualisation 1e classe)\n",
        "        ax = plt.subplot(total_rows, images_per_row, i+1)\n",
        "        img, lab = data[i][0], data[i][1]\n",
        "        plt.imshow(img.numpy().transpose((1, 2, 0)))\n",
        "        plt.title(classes[int(lab)])\n",
        "        plt.axis('off')\n",
        "\n",
        "        # Deuxième séquence d'images d'indices entre 1000 et 1000 + n (visualisation 2e classe)\n",
        "        ax = plt.subplot(total_rows, images_per_row, i+n_images+1)\n",
        "        img, lab = data[i+add_indice][0], data[i+add_indice][1]\n",
        "        plt.imshow(img.numpy().transpose((1, 2, 0)))\n",
        "        plt.title(classes[int(lab)])\n",
        "        plt.axis('off')\n",
        "\n",
        "    plt.tight_layout()\n",
        "    plt.show()\n",
        "\n",
        "plot_img(dataset, n_images = 6, images_per_row = 6, figsize = (10, 10))         # Exemple avec une figure size de (10x10)\n",
        "                                                                                # Changer le paramètre \"n_images\" pour afficher n images littéralement"
      ]
    },
    {
      "cell_type": "markdown",
      "metadata": {
        "id": "U317wkAy7LZD"
      },
      "source": [
        "On s'aperçoit que notre dataset comporte beaucoup d'images similaires, cela risque de poser problème. Mais pourquoi ?\n",
        "\n",
        "**QCM** (plusieurs réponses possibles)"
      ]
    },
    {
      "cell_type": "code",
      "execution_count": null,
      "metadata": {
        "id": "DMYuhwcZ18vb"
      },
      "outputs": [],
      "source": [
        "mcq(0)"
      ]
    },
    {
      "cell_type": "markdown",
      "metadata": {
        "id": "edFQECah3y4_"
      },
      "source": [
        "## **Définition du modèle et hyperparamètres**"
      ]
    },
    {
      "cell_type": "markdown",
      "metadata": {
        "id": "WT0y0saihoxL"
      },
      "source": [
        "### **Définition du réseau convolutif**"
      ]
    },
    {
      "cell_type": "markdown",
      "metadata": {
        "id": "qP2AfA9eKmwD"
      },
      "source": [
        "On crée une classe de CNN - Convolutional neural network -"
      ]
    },
    {
      "cell_type": "code",
      "execution_count": null,
      "metadata": {
        "id": "Zj4-2dVyBQch"
      },
      "outputs": [],
      "source": [
        "class CNN(nn.Module):                                                           # On crée une nouvelle classe CNN, considéré comme un module PyTorch car hérite de la classe nn.Module\n",
        "    def __init__(self, in_dim, out_dim):                                        # Constructeur de la classe, méthode appelée lorsqu'un objet de cette classe est appelé. in_dim et out_dim : dimension de l'entrée et de la sortie\n",
        "        super(CNN, self).__init__()                                             # Appelle du constructeur de la classe parent (nn.Module) pour initaliser l'objet comme module PyTorch\n",
        "        self.out_dim = out_dim                                                  # Attribut de classe\n",
        "\n",
        "        self.convs = nn.Sequential(                                             # Initialisation d'une séquence de couches convolutionnelles avec la classe nn.Sequential, séquence composée de plusieurs couches de convolution suivis d'activations ReLu\n",
        "            nn.Conv2d(in_dim, 8, 8, stride=4, padding=0),                       # Couche de convolution 2D avec in_dim canaux en entrée (3 dans notre cas), 8 canaux de sortie, un noyau de convolution de taille 8x8, un pas/stride de 4 et une marge/padding de 0\n",
        "            nn.ReLU(),                                                          # Fonction d'activation ReLu\n",
        "\n",
        "            nn.Conv2d(8, 16, 5, stride=2, padding=0),                           # Couche de convolution 2D avec 8 canaux d'entrée, 16 canaux de sortie, un noyau de convolution de taille 5x5, un pas/stride de 2 et une marge/padding de 0\n",
        "            nn.ReLU(),                                                          # Fonction d'activation ReLu\n",
        "\n",
        "            nn.Conv2d(16, 32, 5, stride=1, padding=0),                          # Couche de convolution 2D avec 16 canaux d'entrée, 32 canaux de sortie, un noyau de convolution de taille 5x5, un pas/stride de 1 et une marge/padding de 0\n",
        "            nn.ReLU())                                                          # Fonction d'activation ReLu\n",
        "\n",
        "        self.f1 = nn.Flatten()                                                  # Couche de mise à plat, pour aplatir les données en une seule dimension, pour alimenter les couches entièrements connectées à la suite\n",
        "        self.q1 = nn.Linear(22*22*32, 64)                                       # Couche linéaire entièrement connectée d'entrée (22*22*32) et de sortie 64\n",
        "        self.r1 = nn.ReLU()                                                     # Fonction d'activation ReLu\n",
        "        self.q2 = nn.Linear(64, out_dim)                                        # Couche linéaire entièrement connectée d'entrée 64 et de sortie out_dim = 2 dans notre cas, car on a deux classes à classifier uniquement\n",
        "\n",
        "    def forward(self, x):                                                       # Méthode forward appelée lors de l'exécution de l'inférence, lors de la propagation avant du modèle\n",
        "        conv = self.convs(x)\n",
        "        f1 = self.f1(conv)\n",
        "        q1= self.q1(f1)\n",
        "        r1 = self.r1(q1)\n",
        "        q = self.q2(r1)\n",
        "        return q"
      ]
    },
    {
      "cell_type": "markdown",
      "metadata": {
        "id": "AtHm0nNGUH-Z"
      },
      "source": [
        "On distingue deux paramètres non évoqués dans la partie théorique, et propres aux couches de convolution :\n",
        "\n",
        "\n",
        "\n",
        "*   Stride : pas/saut de passage du filtre sur nos images.\n",
        "\n",
        "    Exemple : Stride = 2 implique que notre filtre s'applique tous les 2 pixels à notre image (un pixel sur deux est conservé donc), il y a évidemment une forte perte d'information mais aussi un gain de temps important\n",
        "    \n",
        "![1_kzrHdUtV10iCEgIUQTGOnw.png](data:image/png;base64,iVBORw0KGgoAAAANSUhEUgAAAWkAAAFOCAYAAABE0uzAAAAACXBIWXMAAAsTAAALEwEAmpwYAAAgAElEQVR4nO3de5gcZYHv8V9VdfUt0z03EkkwZGIuEGQCCcuCJgZRWDmgAsIjPgKeNZxVeLzg7hHxskfXdQW87QIuHuXxyC4gqIBIVuQgt4DhgGDkkpA7uQhJgCQzmUtmuqer6j1/zEzPPZkJ6al3wvfzPP083dXdVb/pdP/qnbdqOo4xxggAYCU37gAAgJFR0gBgMUoaACxGSQOAxShpALAYJQ0AFqOkAcBilDQAWCwRd4C3lhbp53dJuwvSMe+Tzjou7kAALEdJH1BR2tV6gMckpMm1fTdXPSzd+4yUOkK69FJpWqZ7edsm6ZJru6+/M6CkARwQJb1fgXTlKdKNbQd+6F0PSBfOldQuffaz0hOl7uU1C6RPn9x93ff7Hj8rdcjTAjj8MCe9XwVpc9cYnxMOuu0P+yi1DLPs6Tuki5dKF39R2tYxxu0COBwxkh61ydLtX5OqnKF3dRnptOk9N6qlr39J+tlKaVKtdMbM0W/ijw9Id/y/7uv/8yvSjOybTg1gYqOkR22udNGHRveKvX9p92WsUpP6rvv80wCgpMdgn9RppNwwI+nB2nZL21+TlJdmH33gV7ltt1QoSVs39C3bslU6copUCiSlpWmTh3neTun5ddJrzd2364+SGudJk/MjbGentHW3lK2XZk2Tgj3SEyulPe1S/QxpyUm8IwDL8JGshJ99SvrCC93XVz4jLazfz4PbpY8vkX5bHLj43I/0uzFbav2//XYQLdJ3rpK+/Mjwq7zyn6XrLx4m12d6ci2SXlwqzb9s4P0/vkf69In7yQpgvFHSlZCaMrbHt0ZjeHCLdPEi6Y7OfssmS/OapLU9By1v+Lq0pVW674oRcj0pzX9y6KrrmQMHbMPZHWORGcVUx5hVSXc/JG19SPr80X2L7/pl97JNv5c23dI3ir7ru/0Kera08nHJPC2t2SA99a2+5y/7vvToawfe/HXXSStvla67TJpefch+KgCHBiPpUXteuuKL0qTBRV2QOuZIP/r8wb+ak3vODDnxWEl/6b5+zBxpxuDSfE36xl19N1/8ldTY7zGnflx6fI902vXdt2/4nfS+/RzA/Pky6ePv7L6+cNFBhgdQSZT0WPz03hHumC394HOjO6i4P8V+/91kKRh6/6Yn+6Y0Pvy1gQXda8mHJPWUdEtx6P29rry2r6ABWIuSHoslC6XqwUXcLrUuGPFvVg6pjva+68vul27YKxUG/z/CRWme113mjz8ltV0+/M7jsg9UNCqAQ4OSHrUTpQd/JaUrMS99MJ6XvvD8AR6zb+Sdx3AjdQDWoaTHoiQpHXeIXouk/33KwCmS/gpFad4ZFu1UABwMStpa3v7v/s7l0uXvHp8oAGLDKXhW6felSnuH+ea9bFXf9avvGno/gMMOJW2TqXP6rv9p59D7Zy/qPigoSVom/eTZkde1a5fEtDMw4VHSNpnZ749Zrv68tOwP0n23SZ/6l56zOI6Urv1o32Mu/5j0hRulP6+TduyQ1j0n/fyn0ocWS1NOlVbuHvcfAcChxZy0Teb+db8bu6Rz/7bn+iLpxp6r535Z+vyT0o09f/Ryww3dFwCHJUbSB5I/iJco1e+MigFfOdrvfLjqYf5nlvQ86YV/HWaF/b+gqUq64SHpN1/sN/UxyJL3SLfcJJ0w6IudRswFwFaOMWaEc7hQVihIifTYfu8oFCQlpPSgJwVB9yW9v3P5gu455Q4jZTMD///EwZp3Sa093+WRzUm53NBtjiYXACtR0gBgMaY7AMBilDQAWIySBgCLUdIAYDFKGgAsVtHzsKIo0ve+9z2tX7++kpsZM2OMVq9eLUk6/vjj5Th2fFMcucaGXGNDroNzzDHH6KqrrpLrxjOmrdgpeFEU6de//rU+908/0Cnv++iBnwAcpD8++iu99tLTccfAYezuu+/W+eefH0tRV2QkbYxRqVTSq6++qvqGeXpvYZ8a//RYJTaFt7hVf3W6NjXMo6RRUdu3b1cQBPJ9f9xH+hWb7giCQPv27ZPkqK7pDTW27lA2G/835htjtHdvmwod3f//XzqbUk1NLvZfsch1cLm2N70hydGCBQu0dOlSJZPJ2LL1Dk5uueUWrVy5UpJ00kkn6ZOf/GQsH25yvTkrVqzQrbfeKkkqFArlkh5vFRtJh2GoUqkkOZIxUsJx5XsJxT3dFEVGrhw5PZM8rhz5XkKuG28wch1cLmMkOVI6ndbcuXNVVVUV29xhFEXat2+fMplMeVkmk9HcuXM1adIkck2QXFL3ILP/sbQwDBVFkYwxh89IWuou616O48j3E3Ji/HCbyCiKBr7IjuMokegunbiykevN5/J9X9OmTVN9fb087wD/q02FhGGo5uZmJZPJ8rJkMqmjjjpKtbW15JoguYwxKhQKmjRpUizbH2zcvmXHcSTXcxXnUNpxJQXhkOWu68hNxPOGkMg1VsPl8jxPNTU1qquri7V0jDEDtk+uiZfLGKOOjo4BO484jf9XocU532HMsKO/8rK4spFrbIbJ5TiOPM+T53lKJOL7hj/P84b85kGuiZUriiJ5nhfrdEt/dqQAAAyLkgYAi1HSAGAxShoALEZJA4DFKGkAsBglDQAWo6QBwGKUNABYjJIGAItR0gBgMUoaACxGSQOAxShpALAYJQ0AFqOkAcBilDQAWIySBgCLUdIAYDFKGgAsRkkDgMUoaQCwGCUNABajpAHAYpQ0AFiMkgYAi1HSAGAxShoALEZJA4DFKGkAsFiikis3xpSvNze3qaWlvZKbG7WgFJavd+4r6C9bd8SYpg+5xqZ/rqeeekqLFi2S53lyHCeWPMYYhWGo119/vbxsxYoVete73kWuCZRLkqIo0t69e8u3+3fZeKtYSUdRpPXr10uqkiSFQahw/0+JhTFGpa4g7hhDkGtsOjs7tWXLlrhjDNHR0UGuMbA115o1axRFUSzbrsh0hzFGQRAon89XYvUAMK6qq6sVBEEsI+qKjKQdx5ExRrlcTnqtRZKUzqbk+4lYf4WRukf4hc4uBaXu0WDCTyidScpxnNh/vSLX2HP1mjp1qhYvXqx0Oh1rrkKhoBUrVmjHju4poaOOOkqLFi1SKpUi1wTKZYzRxo0b9fTTT0uS8vm8jDGxZKrYdIfrukok+lbv+wlls+lKbW7UjDHqKpbKt13XUTYb7wdbItdYDc5VU1OjU089VblcLtY51vb2dq1Zs6ZcOrW1tTr11FNVVVVFrgmSS5LCMFQYhuWSTiQSct14zrOoWEl7nqdkMlm+7ScSsY9yjDGKokheokPq+YB7CU+pVEqu68b6ZiXXQebqUV1drYULF6q+vl6e58WSKwxDNTc365577hmQ66STTlJtbS25JkguY4yKxaI2btxYXpZKpWLLU9GRdP89j+s6SvienJj2RpIkYxSF0YBycRxHvp+Q67lSXDsQcr3pXOl0Wg0NDZo8eXKspbNnzx5lMpnyskwmo4aGhth3HuQaPWOMOjo6VF1dXV42uM/GU0VPwRs80nIcJ74Pdm8Gd+j2HbcnV4zZyDU2g3O5rqtUKqVUKjVgmm08BUFQ/i2DXBM3VxRFCsNwwPbjnAHgj1kAwGKUNABYjJIGAItR0gBgMUoaACxGSQOAxShpALAYJQ0AFqOkAcBilDQAWIySBgCLUdIAYDFKGgAsRkkDgMUoaQCwGCUNABajpAHAYpQ0AFiMkgYAi1HSAGAxShoALEZJA4DFKGkAsBglDQAWo6QBwGKUNABYjJIGAItR0gBgMUoaACyWiDsAcKgYY8qXOLc/0nJyDb/9kZbHnSuu7Q9W0ZLu6uoqX9+zu0VNTa2V3Nyomajvxe/cV9CWl1+NMU0fco1N/1x/+MMfdNxxx8lxnBgTdX/AOzo6yrcfe+wxHXvsseQaga25JKlYLA57fbxVrKSjKNK6desk1Unq2TuFduyZ+iPX2Niaq1QqqaWlJe4YQ5BrbGzNtWbNGkVRFMu2KzInbYxREASqq6urxOoBYFzV19crCIJYpkAqNpI2xiifz0tvdE9xZKsySib9Sm1u1Iwx2tfeqaAUSJISfkKTqjKx/3pFroPL1Wv69Ok666yzlE6n5brxHA+PokjFYlEPPvigtm3bJkmaMWOGPvCBDyiVSpFrguTqzfbSSy/p0UcflSRVV1fHNkddkZJ2HEeu68r3+0rZ81yl08lYP9zGGEVRpEJnUUGpL1cq5ct13diykevgc/XK5XJqbGxUPp+P7cNtjFFra6ueeuqp8rJ8Pq/GxkblcjlyTZBckhQEgZqbm8u3fT++93zFRtKe5ymZTJZv+4mEUqlU7COwKArV5vUdqHA9V+l0Sq7rxZiKXGM1OFc+n9eCBQtUX18vz4snWxiGam5uVnV1dXlZdXW1Fi5cqNraWnJNkFzGGBUKBa1du7a8LJVKxZanYiXtuu6APaHrOvKTCSnukg6cATsKx3GUSCTkJmIuHXKNyeBcmUxGRx99tI444gglEvGcWRoEgXK5nDKZzJBcdXV15JoguaIoUmdnZ/d0bY/BfTaeKvoqDDtqjrOkjZHjDt1+eVlc2cg1NsPkchxHvu8rmUzG9uHuneIbvFMj18TKFUWRgiAYMHKOcwaAvzgEAItR0gBgMUoaACxGSQOAxShpALAYJQ0AFqOkAcBilDQAWIySBgCLUdIAYDFKGgAsRkkDgMUoaQCwGCUNABajpAHAYpQ0AFiMkgYAi1HSAGAxShoALEZJA4DFKGkAsBglDQAWo6QBwGKUNABYjJIGAItR0gBgMUoaACxGSQOAxShpALBYYty3aIzkOOO+2fLmIzPsMifm3RW5xma4XFEUlS9xGGnb5Bqe7bmMGfoei0NFS7qrq6t8fc/uFu3Z3VLJzY1a/xe/o71TW15+NcY0fcg1Nv1zLV++XO94xzvkxDgAkLozBUFQvv3www+roaGBXCOwNZekAbmKxWJsOSpW0lEUacOGDZJqJMmavdJwbM1GrtGLomjAoMAW5BobW3OtW7cutpF9RUraGKMwDPW2t71N61+Jbw+EtxYbRl/S0J0YufZvIuSaOnWqwjCMZYBS0ZF0Op2W1F3Sk3IZZdKpSm1u1KLIqK1tn0pd3b/K+MmEcrlJct143xjkOrhcvWbNmqULL7xQ2WxWrhvPhHkURers7NQ999yjjRs3SpLmzJmjCy64QJlMhlwTJFdvtpUrV2rZsmWSpHQ6fXiNpB3Hked5SiaT5WWe58lP+pXY3JhEUTTgH991XfnJRKxvCIlcYzU4VyaT0cyZM5XP52Mtnba2NmWz2fKybDarmTNnKpfLkWuC5OqdJ9+8eXN5WTKZlOd5sYzyKzaS9jxPiUTf6hOep1QqFeeJHZKkMAzlev1Kx3OVSnX/A8SJXGMzOFcul9OJJ56ourq6Ae+78RQEgfbu3at8Pl9els/ntWDBAtXU1JBrguSKokjFYlGrV68uL/N9P7b3fMVeBcdxBo3AHCV8L9bT76TuXP33ho7jKJFIyE3EWzrkGpvBudLptKZOnaojjjgi1tLJZDI903wDc8W98yDX6PVOw1RVVZWXua4b21x5RV+FYX+oOEvaGDnDzKWWl8WVjVxjM0wux3Hk+76SyWRsH27XdeX7/pCdGrkmVq4oihQEwYCRc5wHM/mLQwCwGCUNABajpAHAYpQ0AFiMkgYAi1HSAGAxShoALEZJA4DFKGkAsBglDQAWo6QBwGKUNABYjJIGAItR0gBgMUoaACxGSQOAxShpALAYJQ0AFqOkAcBilDQAWIySBgCLUdIAYDFKGgAsRkkDgMUoaQCwGCUNABajpAHAYpQ0AFgsMZ4bM8bIMWY8Nzk0QzR0+yYyclxJMWYj19gMzmWMUalUUldXl6IoiiVTEAQqlUoy/V4Xck28XFEUqaurS2EYxrL9wSpW0sYYtba2SpKKk3J6uSBpZ2ulNjc2TkrKpSRJLZJ2vt4Wb55e5BobJ6XipJzUtU+PPfaYZsyYEXeiIR566CFNnz497hhDkGtsWlpaBuxMxlPFSjqKIm3atEntb5T0yMln6JFZjZXaFN7KHKP2+1fGnQKHuQ0bNsQ2sq9ISRtjFASBwjDUtmce1LZnHqzEZgBgXARBoCAIYhlNV6ykoyga8Oun53nyPE+O41Rik6PWuwPp3Su6rqtEIkGuwyCX7/ty3XiPhUdRpFKpRK7DIFdvNkk6+uijFYbh4VPSjuPIdV3lcrnysg9+8INavHixfN+P7QMehqHa2tp0++23a+PGjZKkWbNm6ZJLLlEul5PneeSaoLnmzJmjpUuXKp/Px5qrtbVVP/vZz7R+/XpyTdBcvQcvly9frrvvvluSNGnSJDmOE0t3Vaykfd9XJpMpL5s6dapOPPFEJZPJWEu6paVFy5YtKy+rrq7WCSecoOrq6ljfrOR6c7lyuZyOPfZY1dTUxJpr7969qqqqItcEzmWMUbFY1EsvvVRelk6nYxtgVuzAoed58n2/fPuII47Q3LlzlclkYvtVJggC7dmzZ8AIv6qqSnPnzlVdXZ0SiXE9I5FchzjXnDlzyEWuNy2KInV2dqq+vr68zPf92HYaFXsVeqc8eqXTaVVXVyubzcZa0mEYDth5+L6v6upq1dTUxPpmJRe5yGVHriiKlEwmlU6ny8tc141tBqCir0L/H8p13fLBw7hK2hgz5OCl4zjlXHH+ekUucpHLjly9Gfr3VJwHyvmzcACwGCUNABajpAHAYpQ0AFiMkgYAi1HSAGAxShoALEZJA4DFKGkAsBglDQAWo6QBwGKUNABYjJIGAItR0gBgMUoaACxGSQOAxShpALAYJQ0AFqOkAcBilDQAWIySBgCLUdIAYDFKGgAsRkkDgMUoaQCwGCUNABajpAHAYpQ0AFgsMV4bKhaLamtrUxiGchxnvDY7QBiGam9vVxAE5WVBEKi9vV3JZFKe55GLXOR6i+cyxqijo0PFYjGW7Q9hKiAMQ9Pa2mquvvpqI4kLFy5cJvTl6quvNq2trSYMw0pU5n5VbLojiiJt2bKlUqsHgHGzdetWRVEUy7YrMt1hjFEYhpo5c2Z5WTKZVCIxbrMrIzLGqFgsll9w13WVSqVim4IhF7nIZV8uqXvqpaurS5LU0NCgMAxljBn3HBVtTdftG6ifc845OvnkkwcsG29RFKmzs1O//OUvtWHDBknS7NmzddFFFymTycSWjVzkIpc9uXqzPfvss7r33nslKdYsFSlpx3HkeZ6SyWR5WX19vebNm6dEIhHbXjKKIrW2tqqqqqq8rKqqSsccc4xyuVxsByrIRS5y2ZPLGKMgCLR58+byst4DmXF0V8VG0q7ryvf98u0pU6aosbFR6XQ6tr1SEARqbm5WPp8vL8vn82psbFRtbW1s0zHkIhe57MkVRZEKhYKeffbZ8jLf92PrrYq9Co7jDPihstms6uvrlc1mYy3pwTsP3/dVX1+v+vr6WN+s5CIXuezIFUWROjo6lM1my8tc141tBmDcXgXXdZVIJJRIJOKd3xk03eI4TjlXnAc2yUUuctmRK4qi2HuqPztSAACGRUkDgMUoaQCwGCUNABajpAHAYpQ0AFiMkgYAi1HSAGAxShoALEZJA4DFKGkAsBglDQAWo6QBwGKUNABYjJIGAItR0gBgMUoaACxGSQOAxShpALAYJQ0AFqOkAcBilDQAWIySBgCLUdIAYDFKGgAsRkkDgMUoaQCwGCUNABajpAHAYonx2lAQBOrq6pLneXLdePYNvRmiKCovi6JIXV1dKhaLCsOQXOQi11s8V2+GIAhi2f4QpgLCMDRtbW3mmmuuMZK4cOHCZUJfrrnmGtPW1mbCMKxEZe5XRYe02Wy2kqsHgHERZ5dVbLrDcRydeeaZOvfcc7V161Y5jhPbNEd/URSpUCho586dkqSpU6cqnU7Hno1c5CKXPbmk7mzGGDU0NOjMM8+U4zix5HCMMeZQr9QYo66uLu3atUs7duxQa2uroiiK7YfsnysIAu3du1dNTU2SpLq6OtXU1CiRSMSWj1zkIpc9ufrnc11X+Xxe06ZN0+TJk5VMJsc9V0VKWpLCMFRHR4daWlrU0dFR3ivFLQxDFYtF7du3T5I0adIkpVIpeZ5HLnKRi1xlvb/9Z7NZVVdXK5vNxpKrYiVtjFEURSqVSgrDcMAR3Dj15uo9ctx7tokNe21ykYtcduTq5bquPM+T7/ux5apYSffqXb0No2gAGIveUo5zp1HxkgYAHLz4D6ECAEZESQOAxShpALAYJQ0AFqOkAcBilDQAWIySBgCLUdIAYDFKGgAsRkkDgMUoaQCwGCUNABajpAHAYpQ0AFiMkgYAi1HSAGAxShoALEZJA4DFKGkAsBglDQAWo6QBwGKUNABYjJIGAItR0gBgMUoaACyWiDsADieBdu3Yro6SlK+bptqcH3cgYMJjJI1Dpv3F2zXlqAY1NDTolB//Me44wGGBkkZFzE0zigYOBUoaACxGSQOAxThwiHESaPfLL2tnh1H922dpWq0vte3UH599Ua80tUnJWs09YYHmz6gb8Jyd61bphQ2b1d6VUN30ufqrU+Ypv7+ttO3Wpq2btWP762pqL0rJSZo+c46Omzdbuf292wt7tW7Nam19tUldyaRqa6do2pFHKtMza1MqleTnp2habWaYbe7UqufX6eXX90iSqurertmNx2n25P0lBUbJAIdI2wu3GElGkjnnxqcH3tn6gnm/XCPJnP2TFWbdwz8qP7b/5T3f+i/TaYwxbzxv/uXDU4bcn/A+Zh7aXhyy7eCN1ebGKy8Ydp2SjOsuMbet3Dls7vW/+dcRnzfgcul/dGcr22v+67qlIz7+tL//T/P6IXpt8dZFSeOQ2W9Jd75gPiFvVGW45FNXmvN7Cn24Szr5RbN54JbNrR8+8oDrdd0l5rGmcMAzdz78nQGPcZx3mvnz0yOU9B39SnqvufXio4Y8932NmYHPOe+HZk/FXnG8FTAnjfic93U9tfV1tb6xXj+8+OTy4iduvkH3KpIkXXvfc2pqbdKq31xbvr/Q9X3d+czuAasqtgaSpA995SY9vvZVdZaMjClp19rf6xPyJElR9IR+suyFvicFG/X9M/6xfPNzdzyjjmi1XnihUy8//KMB679/06tquulCpXtub7nrWn3i59slSa67RLetfEVd0Wo98mKHtj19m97fe7jnN5/TjY/tPPjXCIh7L4HDx5hG0pfePHCEOeh+111ifrl274BVPPnNc8r3Lxq0/rbtL5tN21uGzbX78e8On6vzhb4R+6U3D5rKMGbFdR8sP+/WTe397tlpvt2YK9/376uah2xz7+PX9xtN32yGTwYcGCNpjDv3hKu0+da/U/9DhEofo7Mvnlq++b8evl0fPbZ6wPPmn3NB+XrNoHVWTXuHZk0b/kBdfePivpFtP8UNq8sj9rMXn1QeJffqWNU36t7V2tn3vE0r9LVVbd03zrtZlx0/OI1UveRcXdFzXN5pKyoYNhlwYJzdgXEXzTxa9UOWpnT84rOkn/9UkjSlJjf0ib5z4JUX2rRt6ya9svVVvdbUpi75SnZt1G6ZoVucebzOl6t7Fel3K1ap8KmF/Yo6UNcRb5f0Svdj/b6PSqmjvXzdW3afvnvjXqULg9ffpZ2NvrQqkLf8SW1u+4zqcqPIDwxCSWPcOW0HfkxhzGPPFi3/8bd1+hXfG/1TclO06L01und5k3Tb3+qyxry+e/lZeptf1NN3XqMP3vCUJCmZWKrTB43qe4XR/frGlffvdzPGtMnwB5g4SJQ0DgNF/fYLC/WhGzb3LZp/mi4+9URNzjpSxzZdf/O9wzzvSM0/4RhpeXcZ3/Glj+iOLw191CW/+JKOSww/Ck54H9P3b3q3nOLQkbokqVBQ8ti/0YI0o2gcHEoaE15x7T3lgnacd+qmx5fpive8o+8BwVo13bxMtyoc8Lxw0936m57R8nBcd4l+cP+P9IWzjhnxMade+xld+enFb+4HAPaDksaEVyp1la+/+4b/M7CgJSkoqW2YOem/PPen8vWfrmvXZTM69fLW3SpJyuTrddS0ycN+QPxsVfn6M1/7hTZetVhz3uwPAYyAsztwWGl6be+gJe369Te/XD6Lo79Se1P5+r99+3u679lNaimVJPkKOju0fdsONbcVhjwvNXuxvt3YfWCzq3STvnHzMyPmad61S22c2oE3gZLGYWXtNWfpm3cs1/bmZv1l1XL947mzdMF1Dwz72FkfuKh8at5Lt31T5y15l06aP1/z5s3W7NkNamg4SnX5jBrPv1qPb+vo98wjdem3PlO+deenT9Fpf/9veuTPa7Vjxw69vO45PXjHzbr8vJNUN2WKfvjn3QIOFtMdGDf9pxwO5eCyav75uvXDX9Enlr0mSfqni0/XP43ied60U/QRJfWIho6W+1v9m+/qfcue1qOvPaTTJiclSdPP/ZruufJxXdAzp/3E9f+gM67/hzfzYwDDYiSNQ8b3k+XrJjX4bAZfOXUvM7nUAUcH1Zmhj/D9SSOsv1qX3vOc7vzyhUNXdMJS3fviGv3n380YcteGW76qz/QW9Hnf1sbWDnW2tqqpqUlNTW9o3RP36NPv7f5DlSh6Ql/7xXP9nl2lj1z/hFbd9+86r3HoN+NJUuPpH9c3b7lf/2P+0LPCgdFyjDEjnDsEHISgoEIgJdLpoUUcBCoEwfD39SgUClIirfRID+hZfzo9+O8De+/eqzdeb1FJkp+t1bTerwsdsu0W3XT6LH12+R557jn6w+5lelft0DFLywNfVc3Z3d8bcs6NT+u3nztl+NzNu/R6a/eUiJ/NK5fLKTfiDwGMHu8iHFr7K9hEQunE/t9yI5XvqNYvKZGu0bQZQ/9Me8i227bpkeXN3dfnL9T0YQpakrZs27X/PD3StZM1o3ZUDwXGhOkOvDXlZuj97+1u1fD5b2n6+d/QA39eq13NzWprbta2l5/Tnd9aqgVX/LT8lIvOPj6utHgLY7oDb1mvPPAdHdV668IAAACHSURBVH32l0f12I/9xx9153//6wonAoZiJI23rOn/7WrtevH3+uolZ4z4mPdecrV+9+JrFDRiw0gakKSgoObmJnV2lFSSLz+bUV1t7X7nv4HxQEkDgMWY7gAAi1HSAGAxShoALEZJA4DFKGkAsBglDQAWo6QBwGKUNABYjJIGAItR0gBgsf8PfRJxn+G57wYAAAAASUVORK5CYII=)\n",
        "\n",
        "Stride = 2\n",
        "\n",
        "![1_DLc-3SnCH-MBuHI6scpiLg.png](data:image/png;base64,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)\n",
        "\n",
        "*   Padding : rajout de 0 sur les bords de notre entrée pour conserver la taille de notre image, ou pas justement.\n",
        "\n",
        "    Filtre et perds de l'information -> bord de l'image pas forcément utile\n",
        "\n",
        "\n",
        "![9_d0e24ad09a.png](data:image/png;base64,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)"
      ]
    },
    {
      "cell_type": "markdown",
      "metadata": {
        "id": "0sxNXjKvOvtk"
      },
      "source": [
        "On distingue aussi la couche Flatten, qui va écraser comme son nom l'indique les features maps (en sortie de la dernière couche de convolution) en un objet de taille compatible avec la couche dense juste après (i.e un tenseur de dimension 1)"
      ]
    },
    {
      "cell_type": "markdown",
      "metadata": {
        "id": "IPG5vDCWGkJC"
      },
      "source": [
        "### **Hyperparamètres**"
      ]
    },
    {
      "cell_type": "markdown",
      "metadata": {
        "id": "ITP6fZ_dR4ov"
      },
      "source": [
        "Les hyperparamètres sont les paramètres choisis par l'utilisateur, et qui ne sont pas appris au cours de l'entrainement par la machine. Ils vont typiquement correspondre au learning rate de la descente de gradient, à l'algorithme de descente de gradient, la taille de batch, la fonction de coût, ..."
      ]
    },
    {
      "cell_type": "markdown",
      "metadata": {
        "id": "JDke6ydeGq9q"
      },
      "source": [
        "On définit nos ensembles de train et de test par une répartition aléatoire, 1800 images pour l'entraînement et 200 images pour le test.\n",
        "\n",
        "On instancie des objets de classe **DataLoader** pour avoir une itération facile de notre dataset.\n",
        "On prends une taille de batch (**batch_size**) de 20, signifiant qu'on insère 20 images à la fois pendant l'apprentissage."
      ]
    },
    {
      "cell_type": "code",
      "execution_count": null,
      "metadata": {
        "id": "RaejGvKMGsW7"
      },
      "outputs": [],
      "source": [
        "import math\n",
        "\n",
        "batch_size = 20                                                                 # Taille de batch : combien d'images à la fois on met dans notre réseau\n",
        "\n",
        "train_set, test_set = torch.utils.data.random_split(dataset, [1800,200])        # Il faut faire attention à ce que les train_size et test_size soient divisibles par la batch_size, sinon pytorch nous embête\n",
        "train_loader = DataLoader(dataset=train_set,batch_size=batch_size,shuffle=True) # \"shuffle\" indique que nos données sont bien mélangées, opération nécessaire car nos données étaient initialement rangées dans l'ordre\n",
        "test_loader = DataLoader(dataset=test_set,batch_size=batch_size,shuffle=True)\n",
        "\n",
        "a = next(iter(train_loader))\n",
        "a[0].size()\n",
        "\n",
        "# Visualisation des dimensions d'un batch d'échantillons : [20, 3, 224, 224] car on a 20 images par batch,\n",
        "# chaque image est RGB donc avec trois canaux, et de dimension 224 x 224 comme précisé précédemment"
      ]
    },
    {
      "cell_type": "markdown",
      "metadata": {
        "id": "Yt_k1IYmGtzq"
      },
      "source": [
        "On a trois canaux à nos images, qui sont en RGB (red, blue, green), ce qui explique la dimension de nos tenseurs d'entrées :\n",
        "\n",
        "(3 x 20 x 224 x 224), sachant que le batch_size = 20 et que nos images sont de taille 224x224."
      ]
    },
    {
      "cell_type": "code",
      "execution_count": null,
      "metadata": {
        "id": "Vd8vlfiGRDIq"
      },
      "outputs": [],
      "source": [
        "input_dim = dataset[0][0].shape[0]                                              # Nombre de channels dans l'image : 3\n",
        "output_dim = len(classes)                                                       # Nombre de classes : 2 = dimension de la sortie\n",
        "\n",
        "loss_nn = nn.CrossEntropyLoss()                                                 # Fonction de coût/perte : cross entropy loss\n",
        "\n",
        "model = CNN(input_dim, output_dim)                                              # Initialisation du modèle en tant que classe CNN\n",
        "\n",
        "learning_rate = 1e-3                                                            # Définition du learning rate, ou taux d'apprentissage, c'est un hyperparamètre\n",
        "optimizer_nn = torch.optim.Adam(model.parameters(), lr=learning_rate)           # Fonction d'optimisation pour la descente de gradient"
      ]
    },
    {
      "cell_type": "markdown",
      "metadata": {
        "id": "G1GzimMs3_8F"
      },
      "source": [
        "Petite manipulation pour observer les features maps après coup."
      ]
    },
    {
      "cell_type": "code",
      "execution_count": null,
      "metadata": {
        "id": "T3_u3s80LnLK"
      },
      "outputs": [],
      "source": [
        "activations = {}\n",
        "\n",
        "def get_activation(name):\n",
        "    def hook(model, input, output):\n",
        "        activations[name] = output.detach()\n",
        "    return hook\n",
        "\n",
        "# Attacher des hooks aux couches de convolution\n",
        "model.convs[0].register_forward_hook(get_activation('conv1'))\n",
        "model.convs[2].register_forward_hook(get_activation('conv2'))\n",
        "model.convs[4].register_forward_hook(get_activation('conv3'))"
      ]
    },
    {
      "cell_type": "markdown",
      "metadata": {
        "id": "fTSKIZad6uSG"
      },
      "source": [
        "Résumé du réseau et du nombre de paramètres :"
      ]
    },
    {
      "cell_type": "code",
      "execution_count": null,
      "metadata": {
        "id": "_XiagmRb3X9E"
      },
      "outputs": [],
      "source": [
        "summary(model,(3,224,224))                                                      # Affichage du réseau, avec le nombre de paramètres par couche entre autres"
      ]
    },
    {
      "cell_type": "markdown",
      "metadata": {
        "id": "05SjIgtskRCM"
      },
      "source": [
        "\n",
        "  **QCM**"
      ]
    },
    {
      "cell_type": "code",
      "execution_count": null,
      "metadata": {
        "id": "_GZuOwFLIxc9"
      },
      "outputs": [],
      "source": [
        "mcq(5)"
      ]
    },
    {
      "cell_type": "markdown",
      "metadata": {
        "id": "tOy01EGoNaOu"
      },
      "source": [
        "Ces paramètres correspondent aux poids affinées lors de l'entraînement par descente et rétropropagation du gradient. Ce sont les termes de pondération et biais de nos couches denses, et les filtres et biais de nos couches convolutives."
      ]
    },
    {
      "cell_type": "markdown",
      "metadata": {
        "id": "htYkOsnL3-J6"
      },
      "source": [
        "## **Entraînement du réseau de neurones**"
      ]
    },
    {
      "cell_type": "markdown",
      "metadata": {
        "id": "WE9eY4aM-FfD"
      },
      "source": [
        "On lance l'entraînement et on récupère des données comme la précision et la perte en même temps :"
      ]
    },
    {
      "cell_type": "code",
      "execution_count": null,
      "metadata": {
        "id": "38ZXcyarU1W6"
      },
      "outputs": [],
      "source": [
        "epochs = 5                                                                      # On itère 5 fois sur l'ensemble des données d'entraînement .\n",
        "                                                                                # Une epoch = un passage sur l'ensemble du training dataset\n",
        "iterations = 0\n",
        "loss_list = []                                                                  # On initialise des liste pour récupérer après entraînement précision et perte du modèle en fonction des itérations\n",
        "iteration_list = []\n",
        "accuracy_list = []\n",
        "accuracy = 0\n",
        "\n",
        "for epoch in range(epochs):                                                     # Boucle d'entraînement sur 5 epochs\n",
        "    for images, labels in train_loader:                                         # Itération à travers le chargeur de données d'entraînement \"train_loader\"\n",
        "\n",
        "        model.train()\n",
        "\n",
        "        train = images.view(batch_size, 3, 224, 224)                            # Réorganise les images pour correspondre au format attendu par le modèle, ici des images en 224x224 avec 3 canaux de couleurs.\n",
        "        outputs = model(train)                                                  # On passe les images à travers le modèle pour obtenir les sorties prédites\n",
        "        loss = loss_nn(outputs, labels)                                         # Calcul de la perte entre sorties prédites et étiquettes réelles\n",
        "\n",
        "        predictions = torch.max(outputs, 1)[1]                                  # Calcul prédiction du modèle selon l'indice de la valeur max en sortie du vecteur\n",
        "\n",
        "        optimizer_nn.zero_grad()                                                # Initialise les gradients du modèle à zéro avant d'effectuer la rétropropagation\n",
        "        loss.backward()                                                         # Rétropropagation : calcul des gradients de perte par rapport aux paramètres du modèle\n",
        "        optimizer_nn.step()                                                     # Optimisation : mise à jour des poids du modèle en fonction des gradients calculés\n",
        "\n",
        "        iterations += 1                                                         # Incrémente l'itération sur un batch\n",
        "\n",
        "        if iterations % 50 == 0:                                                # Lorsque le nombre d'itérations est un multiple de 100, on réalise une phase de test sur l'ensemble de données de test, avec mise à jour de la précision et de la perte\n",
        "            corrects = 0\n",
        "            total = 0\n",
        "\n",
        "            for images, labels in test_loader:                                  # Itération à travers le chargeur de données de test \"test_loader\"\n",
        "\n",
        "                test = images.view(batch_size, 3, 224, 224)\n",
        "                model.eval()                                                    # On met le modèle en mode évaluation, pour réduire le nombre d'opérations effectuées sur les données\n",
        "                with torch.no_grad():                                           # Aucun calcul ni stockage de gradients, accélère le calcul\n",
        "\n",
        "                  outputs = model(test)\n",
        "                  predict = torch.max(outputs.data, 1)[1]\n",
        "\n",
        "                total += len(labels)\n",
        "                corrects += (predict == labels).sum()\n",
        "\n",
        "            model.train()\n",
        "\n",
        "            accuracy = 100 * corrects / float(total)                            # Calcul de la précision\n",
        "\n",
        "            loss_list.append(loss.data)\n",
        "            iteration_list.append(iterations)\n",
        "            accuracy_list.append(accuracy.data)\n",
        "\n",
        "    print(f\"Epoch: {epoch+1} | Loss: {loss.data} | Accuracy: {accuracy}\")       # Affichage de la précision et de la perte(loss) au bout de chaque epoch"
      ]
    },
    {
      "cell_type": "markdown",
      "metadata": {
        "id": "HdCGWd5MvQya"
      },
      "source": [
        "On a une précision très élevée, en comparaison avec notre réseau qui est relativement simple et notre dataset qui est lui très petit."
      ]
    },
    {
      "cell_type": "markdown",
      "metadata": {
        "id": "0QOwtCRPQ4zw"
      },
      "source": [
        "**QCM**"
      ]
    },
    {
      "cell_type": "code",
      "execution_count": null,
      "metadata": {
        "id": "-3FjQivH7LOk"
      },
      "outputs": [],
      "source": [
        "mcq(2)"
      ]
    },
    {
      "cell_type": "markdown",
      "metadata": {
        "id": "FfT5-8VU7IJE"
      },
      "source": [
        "On déduit deux raisons quelques peu liées : le faible nombre d'exemples, et la pauvre diversité de notre dataset.\n",
        "\n",
        "Un dataset adapté à les trois atouts suivants : des exemples de **qualité**, **divers**, et en grande **quantité**, ici ce sont la diversité et la quantité qui font défaut.\n",
        "\n",
        "On jette un oeil à la précision et la loss calculées."
      ]
    },
    {
      "cell_type": "code",
      "execution_count": null,
      "metadata": {
        "id": "XqcGlCsYU5SA"
      },
      "outputs": [],
      "source": [
        "import matplotlib.pyplot as plt\n",
        "\n",
        "loss_L = [tensor.item() for tensor in loss_list]                                # On récupère les termes de perte\n",
        "accuracy_L = [tensor.item() for tensor in accuracy_list]                        # On récupère les termes de précision\n",
        "\n",
        "fig, axs = plt.subplots(1, 2, figsize=(12, 5))\n",
        "                                                                                # Premier sous-graphique: Loss vs Number of Iteration\n",
        "axs[0].plot(iteration_list, loss_L)\n",
        "axs[0].set_xlabel(\"Number of Iteration\")\n",
        "axs[0].set_ylabel(\"Loss\")\n",
        "axs[0].set_title(\"CNN: Loss vs Number of Iteration\")\n",
        "axs[0].set_xlim([min(iteration_list),max(iteration_list)])\n",
        "axs[0].set_ylim(0)\n",
        "\n",
        "axs[1].plot(iteration_list, accuracy_L)                                         # Deuxième sous-graphique: Accuracy vs Number of Iteration\n",
        "axs[1].set_xlabel(\"Number of Iteration\")\n",
        "axs[1].set_ylabel(\"Accuracy\")\n",
        "axs[1].set_title(\"CNN: Accuracy vs Number of Iteration\")\n",
        "axs[1].set_xlim([min(iteration_list),max(iteration_list)])\n",
        "axs[1].set_ylim([min(accuracy_L),max(accuracy_L)])\n",
        "\n",
        "plt.tight_layout()\n",
        "plt.show()\n"
      ]
    },
    {
      "cell_type": "markdown",
      "metadata": {
        "id": "ZKO0Z0D5WZBI"
      },
      "source": [
        "On atteint une perte quasi nulle et une précision parfaite au bout de la 5e epoch."
      ]
    },
    {
      "cell_type": "markdown",
      "metadata": {
        "id": "6BlG6Gpxaoj3"
      },
      "source": [
        "On observe les **filtres** de notre première couche (par pure curiosité) :"
      ]
    },
    {
      "cell_type": "code",
      "execution_count": null,
      "metadata": {
        "id": "rr5avC05fYZH"
      },
      "outputs": [],
      "source": [
        "conv1_weights_posttraining = model.convs[0].weight.data                         # Filtres de la 1e couche de convolution\n",
        "conv2_weights_posttraining = model.convs[2].weight.data                         # Filtres de la 2e couche de convolution\n",
        "conv3_weights_posttraining = model.convs[4].weight.data                         # Filtres de la 3e couche de convolution\n",
        "\n",
        "# Nombre de filtres dans la première couche de convolution\n",
        "num_filters = conv1_weights_posttraining.shape[0]\n",
        "\n",
        "# Créer la figure pour afficher les filtres après l'entraînement\n",
        "fig, axes = plt.subplots(1, num_filters, figsize=(12, 6))\n",
        "\n",
        "for i, ax in enumerate(axes.flat):  # Afficher les filtres après l'entraînement\n",
        "    filter_img = conv1_weights_posttraining[i].detach().cpu().numpy()\n",
        "    if filter_img.ndim == 3:  # S'assurer que c'est une image RGB\n",
        "        filter_img = filter_img.mean(axis=0)  # Prendre la moyenne sur les canaux\n",
        "    ax.imshow(filter_img, cmap='gray')\n",
        "    ax.set_title(f'Filtre {i+1}')\n",
        "    ax.axis('off')\n",
        "\n",
        "plt.tight_layout()\n",
        "plt.show()\n"
      ]
    },
    {
      "cell_type": "code",
      "execution_count": null,
      "metadata": {
        "id": "5kGvr8F3U7H7"
      },
      "outputs": [],
      "source": [
        "# prédiction sur les images du data set\n",
        "\n",
        "def prediction(index, data):\n",
        "    img, _ = data[index]\n",
        "    img = img.view([-1, 3, 224, 224])\n",
        "\n",
        "    model.eval()\n",
        "\n",
        "    with torch.no_grad():\n",
        "      outputs = model(img)\n",
        "      predict = torch.max(outputs.data, 1)[1]\n",
        "\n",
        "    return classes[int(predict)]\n",
        "\n",
        "index = 988                                             # Index à modifier, toujours entre 0 et 1999, pour prédire les différentes images de notre dataset\n",
        "\n",
        "fig = plt.figure(figsize=(10, 7))\n",
        "\n",
        "img, label = dataset[index]\n",
        "predicted_label = prediction(index, dataset)\n",
        "\n",
        "fig.add_subplot(1, 2, 1)\n",
        "plt.imshow(img.numpy().transpose((1, 2, 0)))\n",
        "plt.axis('off')\n",
        "plt.title(\"Real Label: \" + classes[int(label)])\n",
        "\n",
        "fig.add_subplot(1,2,2)\n",
        "plt.imshow(img.numpy().transpose((1, 2, 0)))\n",
        "plt.axis('off')\n",
        "plt.title(\"Predicted Label: \" + predicted_label)\n",
        "\n",
        "plt.show()"
      ]
    },
    {
      "cell_type": "markdown",
      "metadata": {
        "id": "ty2rz2749MSW"
      },
      "source": [
        "Notre réseau fonctionne très bien sur les images de notre dataset, mais ça ne veut pas dire pour autant que notre réseau a appris quelque chose.\n",
        "\n",
        "Il peut tout simplement avoir appris par coeur les exemples de notre dataset, sans pour autant acquérir de schéma sur les données intrinsèques à nos espèces de poisson.\n",
        "\n",
        "\n",
        "De ce fait, nous allons vérifier si notre réseau a appris quoi que ce soit en le testant sur des images d'internet prises au hasard, mais quand même parmi les classes sur lesquelles à appris le modèle : rouget ou brème de mer.\n"
      ]
    },
    {
      "cell_type": "markdown",
      "metadata": {
        "id": "r7SAhhOV4Jhl"
      },
      "source": [
        "## **Test du réseau de neurones**"
      ]
    },
    {
      "cell_type": "markdown",
      "metadata": {
        "id": "IJDMZbPc4JoV"
      },
      "source": [
        "La fonction ci-dessous permet d'indiquer l'URL d'une image d'internet en entrée, pour avoir en sortie la prédiction du réseau dessus :"
      ]
    },
    {
      "cell_type": "code",
      "execution_count": null,
      "metadata": {
        "id": "2_CLGCivHZ4B"
      },
      "outputs": [],
      "source": [
        "# Petite fonction pour insérer un url d'image à insérer dans notre réseau pour une prédiction\n",
        "\n",
        "def prediction(img_url):\n",
        "    file_name = \"image.jpg\"\n",
        "    !wget -O {file_name} {img_url} &> /dev/null\n",
        "    img_path =\"/content/\" + str(file_name)\n",
        "    img = Image.open(img_path)\n",
        "\n",
        "    #Fonction de transformation qu'on applique à chaque image : changement de la taille en 224x224, conversion en tenseur\n",
        "    transform2 = T.Compose([\n",
        "        T.Resize((224,224)),                                                    # Taille mise en 224 x 224\n",
        "        T.ToTensor()                                                            # Format tenseur\n",
        "    ])\n",
        "\n",
        "    img2 = transform2(img)\n",
        "\n",
        "    img3 = img2.permute(1, 2, 0)                                                # Permutation des dimensions pour passer de (3, 224, 224) à (224, 224, 3)\n",
        "    img3 = img3.numpy()                                                         # Convertir en tableau NumPy\n",
        "    img3 = img3.clip(0, 1)                                                      # S'assurer que les valeurs sont comprises entre 0 et 1\n",
        "\n",
        "    # image d'origine                                                           # On affichge l'image d'origine\n",
        "    plt.subplot(1,2,1)\n",
        "    plt.imshow(img)\n",
        "    plt.axis('off')\n",
        "    plt.title(\"Image d'origine\")\n",
        "\n",
        "    # image transformée                                                         # On affiche l'image transformée (i.e mise en tenseur et mise en taille 224 x 224)\n",
        "    plt.subplot(1,2,2)\n",
        "    plt.imshow(img3)\n",
        "    plt.axis('off')  # Désactiver les axes\n",
        "    plt.title('Image transformée')\n",
        "\n",
        "    plt.show()\n",
        "\n",
        "    img2 = img2\n",
        "    img2 = img2.view([-1, 3, 224, 224])\n",
        "\n",
        "    model.eval()\n",
        "    with torch.no_grad():\n",
        "      outputs = model(img2)\n",
        "      predict = torch.max(outputs.data, 1)[1]\n",
        "\n",
        "    !rm -r {img_path}\n",
        "\n",
        "    print(f\"Our network has predicted that this is a : \" + classes[int(predict)])"
      ]
    },
    {
      "cell_type": "markdown",
      "metadata": {
        "id": "gQpgzQ2_yvXm"
      },
      "source": [
        "**Prédiction sur des images d'internet**"
      ]
    },
    {
      "cell_type": "markdown",
      "metadata": {
        "id": "qFuXm3M_4xsa"
      },
      "source": [
        " - **Rouget**"
      ]
    },
    {
      "cell_type": "code",
      "execution_count": null,
      "metadata": {
        "id": "nSDeUeYPXFqn"
      },
      "outputs": [],
      "source": [
        "Url_rouget = [\"https://www.shutterstock.com/image-photo/red-mullet-isolated-260nw-33313192.jpg\",\"https://img-3.journaldesfemmes.fr/iObfoi_h-MtiyrSVcJBBgWyGPbA=/1500x/smart/0f350bb4a16f445895cdfc0b861f74dc/ccmcms-jdf/11500214.jpg\"]\n",
        "\n",
        "for url in Url_rouget:\n",
        "  prediction(url)"
      ]
    },
    {
      "cell_type": "markdown",
      "metadata": {
        "id": "XDSdqaKM5fcl"
      },
      "source": [
        "- **Brème de mer**"
      ]
    },
    {
      "cell_type": "code",
      "execution_count": null,
      "metadata": {
        "id": "QRhx063XKq3v"
      },
      "outputs": [],
      "source": [
        "Url_breme = [\"https://upload.wikimedia.org/wikipedia/commons/b/b9/Pagrus_major_Red_seabream_ja01.jpg\",\"https://encrypted-tbn0.gstatic.com/images?q=tbn:ANd9GcR0ha93ZGw0PaIborknVUPkC1Z0Hys5-Zpn_w&usqp=CAU\"]\n",
        "\n",
        "for url in Url_breme:\n",
        "  prediction(url)\n"
      ]
    },
    {
      "cell_type": "markdown",
      "metadata": {
        "id": "dsGx7gJ621Jh"
      },
      "source": [
        "Clairement, on voit que notre petit réseau n'est pas très bon lorsqu'il s'agit d'images différentes des exemples de la base de données.\n",
        "\n",
        "On peut donc bien confirmer qu'il a fait du sur-apprentissage sur nos données.\n",
        "\n",
        "Comment arranger ça ? Plusieurs solutions :\n",
        "\n",
        "- Améliorer notre réseau de neurones\n",
        "- Augmenter le nombre d'exemples d'apprentissage et les diversifier\n",
        "\n",
        "Les deux solutions présentent des difficultés notamment en termes de ressources, il faut donc rester frugale dans notre approche."
      ]
    },
    {
      "cell_type": "markdown",
      "metadata": {
        "id": "T2Av4ALnj9hH"
      },
      "source": [
        "## **Features maps**"
      ]
    },
    {
      "cell_type": "markdown",
      "metadata": {
        "id": "l18tBHWU49cx"
      },
      "source": [
        "Il peut être intéressant d'observer comment le réseau apprends à partir des images, notamment en regardant les \"**features maps**\".\n",
        "\n",
        "Chaque couche convolutive applique des filtres, capables d'extraire des informations comme les contours, la texture, les paternes, des parties de l'image, ..., on appelle **features maps** la sortie de ces filtres.\n",
        "\n",
        "Ces features maps correspondent donc aux informations extraites par nos couches convolutives.\n",
        "\n",
        "Les résultats vont correspondre à la dernière entrée de notre réseau, ici ça sera l'image de brème de mer fournie juste au dessus."
      ]
    },
    {
      "cell_type": "code",
      "execution_count": null,
      "metadata": {
        "id": "d3uB6jUB48e1"
      },
      "outputs": [],
      "source": [
        "def plot_feature_maps(title,feature_maps, num_cols=6):\n",
        "\n",
        "    feature_maps = feature_maps.cpu().numpy()\n",
        "    N, C, H, W = feature_maps.shape\n",
        "    num_rows = (C + num_cols - 1) // num_cols\n",
        "\n",
        "    fig, axes = plt.subplots(num_rows, num_cols, figsize=(num_cols * 2, num_rows * 2))\n",
        "\n",
        "    for i, ax in enumerate(axes.flat):\n",
        "        if i < C:\n",
        "            ax.imshow(feature_maps[0, i, :, :], cmap='binary')\n",
        "            ax.axis('off')\n",
        "        else:\n",
        "            ax.axis('off')\n",
        "    plt.suptitle(title, fontsize=12)\n",
        "    plt.show()\n",
        "\n",
        "layers = ['conv1','conv2','conv3']\n",
        "titles = ['1e couche conv','2e couche conv','3e couche conv']\n",
        "\n",
        "for i in range (len(layers)) :\n",
        "  plot_feature_maps(titles[i],activations[layers[i]],num_cols=8)"
      ]
    },
    {
      "cell_type": "markdown",
      "metadata": {
        "id": "37aua7xJguIu"
      },
      "source": [
        "# Partie bonus : Data augmentation and enhancing the CNN"
      ]
    },
    {
      "cell_type": "markdown",
      "metadata": {
        "id": "WHO8cDz1Ccu1"
      },
      "source": [
        "Nous allons essayer de rendre notre IA plus compétente.\n",
        "\n",
        "Deux solutions s'offrent à nous :\n",
        "\n",
        "- \"augmenter\" le jeu de données pour améliorer l'apprentissage, lui donner plus de données différentes à extraire. C'est un travail sur les données donc.\n",
        "\n",
        "- optimiser notre réseau de neurones : rajouter des fonctionnalités qui rendent l'apprentissage plus \"facile\", rajouter des paramètres à notre réseau pour qu'il puisse capter des schémas plus \"complexes\".\n",
        "\n",
        "Ces deux méthodes sont bien sûr complémentaires.\n"
      ]
    },
    {
      "cell_type": "markdown",
      "metadata": {
        "id": "NXX4s7719u1f"
      },
      "source": [
        "## **Data augmentation**"
      ]
    },
    {
      "cell_type": "markdown",
      "metadata": {
        "id": "tvW7DDYI5lJV"
      },
      "source": [
        "La première option est d'augmenter le jeu de données, faire ce qu'on appelle de la data augmentation. Cela consiste à générer de nouvelles données à partir de celles qu'on a déjà.\n",
        "\n",
        "Pour ce faire, nous allons créer des copies de nos images sur lesquelles on va appliquer différents filtres, parmi les suivants :    \n",
        "- Changer en nuances de gris\n",
        "- Faire un changement de perspective\n",
        "- Utiliser du flou Gaussien, normalement utilisé pour lisser et débruiter des images à l'aide d'une fonction gaussienne.\n",
        "- Ajouter du bruit Gaussien. Rajoute du bruit sur l'image à l'aide d'une distribution Gaussienne\n",
        "- Changer la luminosité, le contraste, le ton/teinte et la saturation d'une image\n",
        "\n",
        "Cette approche apporte sans aucun doute de la diversité, mais reste limitée car on conserve la même base d'images de départ.\n",
        "\n",
        "On définit une fonction d'augmentation de nos images :"
      ]
    },
    {
      "cell_type": "code",
      "execution_count": null,
      "metadata": {
        "id": "jylaorW_9mAg"
      },
      "outputs": [],
      "source": [
        "#Resize : changement de taille de l'image\n",
        "resize_transform = T.Resize((224,224))\n",
        "\n",
        "#Grayscale : mise en nuances de gris de l'image\n",
        "grayscale_transform = T.Grayscale(3)\n",
        "\n",
        "#Gausian Blur : flou gaussien\n",
        "gausian_blur_transformation_56 = T.GaussianBlur(kernel_size = (7,13), sigma = (5 , 8))\n",
        "\n",
        "#Elastic transformation\n",
        "elastic_transformation = T.ElasticTransform(alpha = 200.0)\n",
        "\n",
        "#Random perspective\n",
        "perspective_transformation = T.RandomPerspective(p=1.0,distortion_scale=0.8)\n",
        "\n",
        "#Random crop\n",
        "size_of_crop = 100\n",
        "random_crops = T.RandomCrop(size = size_of_crop)\n",
        "\n",
        "#Gausian Noise : bruit gaussien\n",
        "def addnoise(input_image, noise_factor = 0.3):\n",
        "    inputs = T.ToTensor()(input_image)\n",
        "    noisy = inputs + torch.rand_like(inputs) * noise_factor\n",
        "    noisy = torch.clip (noisy,0,1.)\n",
        "    output_image = T.ToPILImage()\n",
        "    image = output_image(noisy)\n",
        "    return image\n",
        "\n",
        "#Colour Jitter : jeu sur les couleurs\n",
        "colour_jitter_transformation_2 = T.ColorJitter(brightness=(0.7),contrast=(6),saturation=(0.9),hue=(-0.1,0.1))\n",
        "colour_jitter_transformation_3 = T.ColorJitter(brightness=(0.5,1.5),contrast=(2),saturation=(1.4),hue=(-0.1,0.5))\n",
        "\n",
        "#Random invert\n",
        "\n",
        "random_invert_transform = T.RandomInvert()\n",
        "\n",
        "def augment_image(img_path):\n",
        "\n",
        "    #orig_image\n",
        "    orig_img = Image.open(Path(img_path))\n",
        "\n",
        "    #grayscale\n",
        "    grayscaled_image=grayscale_transform(orig_img)\n",
        "\n",
        "    #elastic\n",
        "    elastic_img = elastic_transformation(orig_img)\n",
        "\n",
        "\n",
        "    #random perspective\n",
        "    pers_img = perspective_transformation(orig_img)\n",
        "\n",
        "    # Random crop\n",
        "\n",
        "    crop_image = resize_transform(random_crops(orig_img))\n",
        "\n",
        "    #Gausian Blur\n",
        "    gausian_blurred_image_56_image = gausian_blur_transformation_56(orig_img)\n",
        "\n",
        "    #Gausian Noise\n",
        "    gausian_image_9 = addnoise(orig_img,0.9)\n",
        "    gausian_image_6 = addnoise(orig_img,0.6)\n",
        "\n",
        "    #Inverted Image\n",
        "    inver_image = random_invert_transform(orig_img)\n",
        "\n",
        "    #Color Jitter\n",
        "    colour_jitter_image_2 = colour_jitter_transformation_2(orig_img)\n",
        "    colour_jitter_image_3 = colour_jitter_transformation_3(orig_img)\n",
        "\n",
        "    return [grayscaled_image,elastic_img,pers_img,crop_image,gausian_blurred_image_56_image,gausian_image_6,gausian_image_9,colour_jitter_image_2,colour_jitter_image_3,inver_image]\n",
        "\n",
        "\n",
        "def create_augmented_images(file_path_master_dataset):\n",
        "    flag = 0  # Compteur pour quelques images du dataset seulement, afin de limiter le temps de calcul\n",
        "\n",
        "    for root, dirs, files in os.walk(file_path_master_dataset):\n",
        "        for file_name in files:\n",
        "            file_path = os.path.join(root, file_name)\n",
        "\n",
        "            # Vérifier si le fichier est une image\n",
        "            try:\n",
        "                image = Image.open(file_path)\n",
        "            except Exception as e:\n",
        "                print(f\"Erreur lors de l'ouverture de l'image {file_path}: {e}\")\n",
        "                continue\n",
        "\n",
        "            # Vérification flag\n",
        "            if flag == 4:\n",
        "                flag = 0\n",
        "                # Génération\n",
        "                required_images = augment_image(file_path)\n",
        "\n",
        "                # Sauvegarde\n",
        "                counter = 0\n",
        "                for augmented_image in required_images:\n",
        "                    augmented_image.save(os.path.join(root, f\"{counter}_{file_name}\"))\n",
        "                    counter += 1\n",
        "\n",
        "            flag += 1"
      ]
    },
    {
      "cell_type": "markdown",
      "metadata": {
        "id": "0xDsbdWIDB3x"
      },
      "source": [
        "On regarde l'effet des transformations sur la première image de notre dataset, une image de Rouget."
      ]
    },
    {
      "cell_type": "code",
      "execution_count": null,
      "metadata": {
        "id": "B-47guVvCOKF"
      },
      "outputs": [],
      "source": [
        "L = augment_image(\"/content/Formation-Introduction-Deep-Learning/Fish Dataset/Red Mullet/00001.png\")\n",
        "\n",
        "num_images = len(L)\n",
        "num_cols = 4\n",
        "num_rows = -(-num_images // num_cols)\n",
        "\n",
        "fig, axes = plt.subplots(num_rows, num_cols, figsize=(12, 3*num_rows))\n",
        "\n",
        "for i, ax in enumerate(axes.flat):\n",
        "    if i < num_images:\n",
        "        ax.imshow(L[i])\n",
        "        ax.axis('off')\n",
        "    else:\n",
        "        ax.axis('off')  # Désactiver les axes pour les cases vides\n",
        "\n",
        "plt.tight_layout()\n",
        "plt.show()"
      ]
    },
    {
      "cell_type": "markdown",
      "metadata": {
        "id": "u8nvBGzXGNtg"
      },
      "source": [
        "L'idée est d'appliquer la fonction à notre dataset pour l'augmenter et générer de nouvelles images, dans le bus de poser plus de difficultés à notre réseau lors de l'apprentissage sur ces données. On l'applique sur un quart des images seulement pour observer les effets et gagner du temps."
      ]
    },
    {
      "cell_type": "code",
      "execution_count": null,
      "metadata": {
        "id": "PSW1wRK293w_"
      },
      "outputs": [],
      "source": [
        "data_dir = \"\"\"/content/Formation-Introduction-Deep-Learning/Fish Dataset\"\"\"\n",
        "classes = [\"Red Mullet\",\"Red Sea Bream\"]\n",
        "\n",
        "create_augmented_images(f\"{data_dir}/{classes[0]}\")\n",
        "create_augmented_images(f\"{data_dir}/{classes[1]}\")"
      ]
    },
    {
      "cell_type": "markdown",
      "metadata": {
        "id": "cKWG-RToREBL"
      },
      "source": [
        "En pratique, j'ai réalisé les transformations de mon côté sur la moitié des images pour effectuer un entraînement \"optimal\". On ne fait pas ça aujourd'hui par un souci évident de temps."
      ]
    },
    {
      "cell_type": "markdown",
      "metadata": {
        "id": "derV5QFAWLb8"
      },
      "source": [
        "On parcourt les mêmes étapes que précemment."
      ]
    },
    {
      "cell_type": "markdown",
      "metadata": {
        "id": "pTzWLsjqhWmT"
      },
      "source": [
        "## **Préparation Data set**"
      ]
    },
    {
      "cell_type": "code",
      "execution_count": null,
      "metadata": {
        "id": "eEsjnAF18dTB"
      },
      "outputs": [],
      "source": [
        "_, _, files = next(os.walk(f\"{data_dir}/{classes[0]}\"))\n",
        "file_count = len(files)"
      ]
    },
    {
      "cell_type": "markdown",
      "metadata": {
        "id": "8NHy87dZA64M"
      },
      "source": [
        "**QCM time :**"
      ]
    },
    {
      "cell_type": "code",
      "execution_count": null,
      "metadata": {
        "id": "lsOVipFRA6OY"
      },
      "outputs": [],
      "source": [
        "mcq(3)"
      ]
    },
    {
      "cell_type": "code",
      "execution_count": null,
      "metadata": {
        "id": "JHvV_AMZHUE-"
      },
      "outputs": [],
      "source": [
        "# Utiliser cette ligne de code pour trouver la réponse\n"
      ]
    },
    {
      "cell_type": "markdown",
      "metadata": {
        "id": "m5HEW_mOBcvj"
      },
      "source": [
        "De la même manière que j'ai préparé un jeu de données plus large de mon côté, j'ai réalisé toutes les étapes de la préparation des données à l'entraînement du réseau."
      ]
    },
    {
      "cell_type": "code",
      "execution_count": null,
      "metadata": {
        "id": "xZE7hnTx8jWI"
      },
      "outputs": [],
      "source": [
        "#Ne pas lancer##################################################################\n",
        "################################################################################\n",
        "\n",
        "image_paths2 = []\n",
        "image_classes = np.array([[cls]*file_count for cls in classes]).reshape(-1)     # On crée un tableau\n",
        "\n",
        "for cls in classes:\n",
        "                                                                                # On ajoute dans la première colonne le chemin d'accès à chaque image\n",
        "    image_paths2.extend(os.path.join(data_dir, cls, i) for i in os.listdir(os.path.join(data_dir, cls)))\n",
        "\n",
        "data2 = pd.DataFrame({'path':image_paths2, 'class':image_classes, })            # On crée le DataFrame Pandas\n",
        "\n",
        "print(data2)"
      ]
    },
    {
      "cell_type": "code",
      "execution_count": null,
      "metadata": {
        "id": "jnRh6VbW8dXX"
      },
      "outputs": [],
      "source": [
        "#Ne pas lancer##################################################################\n",
        "################################################################################\n",
        "\n",
        "#Fonction de transformation qu'on applique à chaque image\n",
        "\n",
        "transform2 = T.Compose([\n",
        "        T.ToTensor()])\n",
        "\n",
        "#On crée le DataSet Torch à partir de notre Dataset Pandas\n",
        "\n",
        "str_to_int = {\n",
        " 'Red Mullet': 0,\n",
        " 'Red Sea Bream': 1\n",
        "}\n",
        "\n",
        "class MarketFishDataset(Dataset):\n",
        "    def __init__(self, data, root_dir, transform=T.ToTensor()):                 # Le constructeur de classe prends trois paramètres\n",
        "        self.data = data                                                        # dataFrame contenant les données\n",
        "        self.root_dir = root_dir                                                # répertoire racine où se trouvent les données\n",
        "        self.transform = transform                                              # une transformation à appliquer sur les images\n",
        "\n",
        "    def __len__(self):                                                          # méthode qui renvoie la longueur de l'ensemble de données, i.e le nombre d'échantillons dans le dataset\n",
        "        return len(self.data)\n",
        "\n",
        "    def __getitem__(self, idx):                                                 # méthode pour indexer les données : prends un index en entrée et renvoie l'échantillon sous forme de tuple\n",
        "        if torch.is_tensor(idx):                                                # utilisation d'un index donné\n",
        "            idx = idx.tolist()\n",
        "        img_name = self.data.iloc[idx, 0]                                       # récupération fichier image\n",
        "        image = Image.open(img_name)                                            # chargement de l'image à partir du fichier\n",
        "        y_label = torch.tensor(str_to_int[self.data.iloc[idx, 1]])              # récupération du label/étiquette de l'image, et conversion en entier avec le dictionnaire str_to_int\n",
        "        if self.transform:                                                      # application de la transformation si spécifié\n",
        "            image = self.transform(image)\n",
        "        return (image, y_label)\n",
        "\n",
        "dataset2 = MarketFishDataset(                                                   # création d'une instance de MarketFishDataset nommée \"dataset2\"\n",
        "    data=data2,\n",
        "    root_dir=data_dir,\n",
        "    transform=transform2)"
      ]
    },
    {
      "cell_type": "markdown",
      "metadata": {
        "id": "ep6b0MWLioXt"
      },
      "source": [
        "## **Définition réseau de neurones**"
      ]
    },
    {
      "cell_type": "markdown",
      "metadata": {
        "id": "tN6H_rKA0hWW"
      },
      "source": [
        "La deuxième approche pour améliorer notre IA est d'augmenter les capacités de notre réseau de neurones.\n",
        "\n",
        "On crée donc une nouvelle classe de CNN, différente de notre réseau précédent. On rajoute notamment des couches de régularisation et de normalisation.\n",
        "\n",
        "La régularisation (Dropout) met aléatoirement à zéro des neurones de manière temporaire, ce qui permet d'améliorer l'apprentissage en déstabilisant le réseau.\n",
        "\n",
        "La normalisation va comme son nom l'indique normaliser les valeurs entre 0 et 1. Ce procédé est reconnu pour stabiliser et rendre plus efficace l'apprentissage.\n",
        "\n",
        "On trouve de plus des filtres plus petit, et des paramètres de stride moins conséquent, ce qui implique deux choses :\n",
        "\n",
        "- Moins d'informations est perdu\n",
        "- Beaucoup plus de paramètres à entraîner"
      ]
    },
    {
      "cell_type": "code",
      "execution_count": null,
      "metadata": {
        "id": "nQzda_KPjJ1J"
      },
      "outputs": [],
      "source": [
        "class CNN_2(nn.Module):\n",
        "    def __init__(self, in_dim, out_dim):\n",
        "        super(CNN_2, self).__init__()\n",
        "        self.out_dim = out_dim\n",
        "\n",
        "        self.convs = nn.Sequential(\n",
        "            nn.Conv2d(in_dim, 64, 3, stride=2, padding=1),\n",
        "            nn.BatchNorm2d(64),\n",
        "            nn.ReLU(),\n",
        "\n",
        "            nn.Conv2d(64, 64, 3, stride=1, padding=1),\n",
        "            nn.BatchNorm2d(64),\n",
        "            nn.ReLU(),\n",
        "\n",
        "            nn.Conv2d(64, 64, 3, stride=2, padding=1),\n",
        "            nn.BatchNorm2d(64),\n",
        "            nn.ReLU())\n",
        "\n",
        "        self.f1 = nn.Flatten()\n",
        "        self.q1 = nn.Linear(200704, 128)\n",
        "        self.b1 = nn.BatchNorm1d(128)\n",
        "        self.r1 = nn.ReLU()\n",
        "        self.d1 = nn.Dropout(0.5)\n",
        "        self.q2 = nn.Linear(128, out_dim)\n",
        "\n",
        "    def forward(self, x):\n",
        "        conv = self.convs(x)\n",
        "        f1 = self.f1(conv)\n",
        "        q1= self.q1(f1)\n",
        "        b1 = self.b1(q1)\n",
        "        r1 = self.r1(b1)\n",
        "        d1 = self.d1(r1)\n",
        "        q = self.q2(d1)\n",
        "        return q\n",
        "\n",
        "input_dim = 3                                             # Nombre de channels dans l'image : 3\n",
        "output_dim = len(classes)                                                       # Nombre de classes : 2\n",
        "\n",
        "model2 = CNN_2(in_dim=input_dim, out_dim=output_dim)\n",
        "\n",
        "loss_nn = nn.CrossEntropyLoss()                                                 # Fonction de perte : cross entropy\n",
        "learning_rate = 1e-4                                                            # Learning rate / taux d'apprentissage\n",
        "optimizer_nn = torch.optim.Adam(model2.parameters(), lr=learning_rate)          # Fonction d'optimisation\n",
        "\n",
        "# On réalise la même manipulation pour observer notre features maps après coup\n",
        "\n",
        "activations = {}\n",
        "\n",
        "def get_activation(name):\n",
        "    def hook(model2, input, output):\n",
        "        activations[name] = output.detach()\n",
        "    return hook\n",
        "\n",
        "# Attacher des hooks aux couches de convolution\n",
        "model2.convs[0].register_forward_hook(get_activation('conv1'))\n",
        "model2.convs[3].register_forward_hook(get_activation('conv2'))\n",
        "model2.convs[6].register_forward_hook(get_activation('conv3'))"
      ]
    },
    {
      "cell_type": "markdown",
      "metadata": {
        "id": "4xCFu_aIJAER"
      },
      "source": [
        "On regarde notre nouveau modèle et son nombre de paramètres"
      ]
    },
    {
      "cell_type": "code",
      "execution_count": null,
      "metadata": {
        "id": "aPAi-C27I-jS"
      },
      "outputs": [],
      "source": [
        "summary(model2,(3,224,224))                                                      # Affichage du réseau, avec le nombre de paramètres par couche entre autres"
      ]
    },
    {
      "cell_type": "markdown",
      "metadata": {
        "id": "vKN1-1l0JIyZ"
      },
      "source": [
        "On a 25 fois plus de paramètres que sur notre premier modèle : ~ 25 millions.\n",
        "\n",
        "Quelle(s) implication(s) pour notre exercice?\n",
        "\n",
        "**QCM**"
      ]
    },
    {
      "cell_type": "code",
      "execution_count": null,
      "metadata": {
        "id": "OtH4BG0xJXuC"
      },
      "outputs": [],
      "source": [
        "mcq(4)"
      ]
    },
    {
      "cell_type": "markdown",
      "metadata": {
        "id": "ngsOv2irOoAk"
      },
      "source": [
        "On ne lance pas d'entraînement de notre réseau, car ça serait beaucoup trop long."
      ]
    },
    {
      "cell_type": "markdown",
      "metadata": {
        "id": "Wj93NbQxFuXc"
      },
      "source": [
        "En revanche on récupère les poids du réseau déjà entraîné au préalable de mon côté, de la manière suivante :"
      ]
    },
    {
      "cell_type": "code",
      "execution_count": null,
      "metadata": {
        "id": "PA49Gwe3FzkS"
      },
      "outputs": [],
      "source": [
        "path = '/content/Formation-Introduction-Deep-Learning/Fish Dataset/big_model_trained.pth'     # Chemin vers les poids du modèle entraîné de mon côté\n",
        "\n",
        "model_dict = torch.load(path)                                                   # On charge les poids dans un dictionnaire\n",
        "\n",
        "model2.load_state_dict(model_dict)                                              # On charge les poids dans notre modèle"
      ]
    },
    {
      "cell_type": "markdown",
      "metadata": {
        "id": "2BdoGrqRE3t1"
      },
      "source": [
        "On récupère de la même façon les données récupérées pendant l'entraînement : l'erreur, la précision, et les itérations."
      ]
    },
    {
      "cell_type": "code",
      "execution_count": null,
      "metadata": {
        "id": "DCafMYpdGAR2"
      },
      "outputs": [],
      "source": [
        "chemin_metrics = '/content/Formation-Introduction-Deep-Learning/Fish Dataset/metrics.pth' # Chemin où se trouvent les métriques sauvegardées\n",
        "\n",
        "metrics_dict = torch.load(chemin_metrics)                                       # Chargez les métriques dans un dictionnaire\n",
        "\n",
        "loss_list = metrics_dict['loss']                                                # Récupération termes de perte\n",
        "accuracy_list = metrics_dict['accuracy']                                        # Récupération termes de précision\n",
        "iteration_L = metrics_dict['iteration']                                         # Récupération termes d'itérations\n"
      ]
    },
    {
      "cell_type": "markdown",
      "metadata": {
        "id": "PRDQlQdHFy0t"
      },
      "source": [
        "On les affiche graphiquement :"
      ]
    },
    {
      "cell_type": "code",
      "execution_count": null,
      "metadata": {
        "id": "LjZg_3q0BbWu"
      },
      "outputs": [],
      "source": [
        "import matplotlib.pyplot as plt\n",
        "\n",
        "loss_L = [tensor.item() for tensor in loss_list]                                # On récupère les termes de perte\n",
        "accuracy_L = [tensor.item() for tensor in accuracy_list]                        # On récupère les termes de précision\n",
        "\n",
        "# Créer une figure contenant deux sous-graphiques côte à côte\n",
        "fig, axs = plt.subplots(1, 2, figsize=(12, 5))\n",
        "\n",
        "axs[0].plot(iteration_L, loss_L)                                                # Premier sous-graphique: Loss vs Number of Iteration\n",
        "axs[0].set_xlabel(\"Number of Iteration\")\n",
        "axs[0].set_ylabel(\"Loss\")\n",
        "axs[0].set_title(\"CNN: Loss vs Number of Iteration\")\n",
        "axs[0].set_xlim([min(iteration_L),max(iteration_L)])\n",
        "axs[0].set_ylim(0)\n",
        "\n",
        "axs[1].plot(iteration_L, accuracy_L)                                            # Deuxième sous-graphique: Accuracy vs Number of Iteration\n",
        "axs[1].set_xlabel(\"Number of Iteration\")\n",
        "axs[1].set_ylabel(\"Accuracy\")\n",
        "axs[1].set_title(\"CNN: Accuracy vs Number of Iteration\")\n",
        "axs[1].set_xlim([min(iteration_L),max(iteration_L)])\n",
        "\n",
        "plt.tight_layout()\n",
        "plt.show()\n"
      ]
    },
    {
      "cell_type": "markdown",
      "metadata": {
        "id": "JPp7HKjsF1WK"
      },
      "source": [
        "La précision est déjà beaucoup plus cohérente.\n",
        "\n",
        "Raisons :\n",
        "\n",
        "\n",
        "*   Dataset plus grand : plus d'images à traiter\n",
        "*   Plus de poids à évaluer lors de la descente de gradient et la rétropropagation\n",
        "\n",
        "\n",
        "\n",
        "\n",
        "On regarde l'évolution des termes de précision et loss."
      ]
    },
    {
      "cell_type": "markdown",
      "metadata": {
        "id": "muku9_tuGBVF"
      },
      "source": [
        "Comme avant, on essaie de voir si notre réseau a réellement appris, en réalisant des inférences sur des images d'internet."
      ]
    },
    {
      "cell_type": "code",
      "execution_count": null,
      "metadata": {
        "id": "KNqSOU3hGQGv"
      },
      "outputs": [],
      "source": [
        "# Fonction de prédiction à partir d'une url d'internet\n",
        "\n",
        "def prediction2(img_url):\n",
        "    file_name = \"image.jpg\"\n",
        "    !wget -O {file_name} {img_url} > /dev/null 2>&1\n",
        "    img_path =\"/content/\" + str(file_name)\n",
        "    img = Image.open(img_path)\n",
        "\n",
        "    #Fonction de transformation qu'on applique à chaque image : changement de la taille en 224x224, conversion en tenseur, normalisation des pixels\n",
        "\n",
        "    transform2 = T.Compose([\n",
        "        T.Resize((224,224)),                                                    # Taille mise en 224 x 224\n",
        "        T.ToTensor()                                                            # Format tenseur\n",
        "    ])\n",
        "\n",
        "    img2 = transform2(img)\n",
        "    img3 = img2.permute(1, 2, 0)                                                # Permutation des dimensions pour passer de (3, 224, 224) à (224, 224, 3)\n",
        "    img3 = img3.numpy()                                                         # Convertir en tableau NumPy\n",
        "    img3 = img3.clip(0, 1)                                                      # S'assurer que les valeurs sont comprises entre 0 et 1\n",
        "\n",
        "    # image d'origine                                                           # On affichge l'image d'origine\n",
        "    plt.subplot(1,2,1)\n",
        "    plt.imshow(img)\n",
        "    plt.axis('off')\n",
        "    plt.title(\"Image d'origine\")\n",
        "\n",
        "    # image transformée                                                         # On affiche l'image transformée (i.e mise en tenseur et mise en taille 224 x 224)\n",
        "    plt.subplot(1,2,2)\n",
        "    plt.imshow(img3)\n",
        "    plt.axis('off')  # Désactiver les axes\n",
        "    plt.title('Image transformée')\n",
        "\n",
        "    plt.show()\n",
        "\n",
        "    img2 = img2\n",
        "    img2 = img2.view([-1, 3, 224, 224])\n",
        "\n",
        "    model2.eval()\n",
        "    with torch.no_grad():\n",
        "      outputs = model2(img2)\n",
        "      print(outputs)\n",
        "      predict = torch.max(outputs.data, 1)[1]\n",
        "\n",
        "    !rm -r {img_path}\n",
        "\n",
        "    print(f\"Our network has predicted that this is a : \" + classes[int(predict)])\n"
      ]
    },
    {
      "cell_type": "markdown",
      "metadata": {
        "id": "RvmuI5pFNLnQ"
      },
      "source": [
        "**Images de rouget** :"
      ]
    },
    {
      "cell_type": "code",
      "execution_count": null,
      "metadata": {
        "id": "53ACm9AjGuiO"
      },
      "outputs": [],
      "source": [
        "Url_rouget = [\"https://www.shutterstock.com/image-photo/red-mullet-isolated-260nw-33313192.jpg\",\n",
        "              \"https://img-3.journaldesfemmes.fr/iObfoi_h-MtiyrSVcJBBgWyGPbA=/1500x/smart/0f350bb4a16f445895cdfc0b861f74dc/ccmcms-jdf/11500214.jpg\"]\n",
        "\n",
        "for url in Url_rouget:\n",
        "  prediction2(url)\n"
      ]
    },
    {
      "cell_type": "markdown",
      "metadata": {
        "id": "e443PLNRNQbO"
      },
      "source": [
        "**Images de brème de mer** :"
      ]
    },
    {
      "cell_type": "code",
      "execution_count": null,
      "metadata": {
        "id": "hdJmhJ2FG5G-"
      },
      "outputs": [],
      "source": [
        "Url_breme = [\"https://upload.wikimedia.org/wikipedia/commons/b/b9/Pagrus_major_Red_seabream_ja01.jpg\",\n",
        "             \"https://encrypted-tbn0.gstatic.com/images?q=tbn:ANd9GcR0ha93ZGw0PaIborknVUPkC1Z0Hys5-Zpn_w&usqp=CAU\",\n",
        "             \"https://www.crushpixel.com/big-static11/preview4/raw-sea-bream-694330.jpg\"]\n",
        "\n",
        "for url in Url_breme:\n",
        "  prediction2(url)"
      ]
    },
    {
      "cell_type": "markdown",
      "metadata": {
        "id": "np2svORrbOGP"
      },
      "source": [
        "Bon ...\n",
        "\n",
        "Malgré l'augmentation des données et l'utilisation d'un modèle bien plus conséquent, le réseau n'arrive pas à extrapoler sur des images externes à sa base d'entraînement.\n",
        "\n",
        "Cela souligne d'autant plus l'importance du choix des données, qui peut dans notre cas décider totalement des capacités de notre réseau de neurones.\n"
      ]
    },
    {
      "cell_type": "markdown",
      "metadata": {
        "id": "c2OyKtxdjkEr"
      },
      "source": [
        "## **Features maps**"
      ]
    },
    {
      "cell_type": "markdown",
      "metadata": {
        "id": "k6Bk6a_76nnp"
      },
      "source": [
        "On regarde les features map de ce réseau, qui conserve plus d'information et donc devrait renvoyer des features maps plus précises."
      ]
    },
    {
      "cell_type": "code",
      "execution_count": null,
      "metadata": {
        "id": "NKP0eUTQ6nDn"
      },
      "outputs": [],
      "source": [
        "def plot_feature_maps(title,feature_maps, num_cols=6):\n",
        "\n",
        "    feature_maps = feature_maps.cpu().numpy()\n",
        "    N, C, H, W = feature_maps.shape\n",
        "    num_rows = (C + num_cols - 1) // num_cols\n",
        "\n",
        "    fig, axes = plt.subplots(num_rows, num_cols, figsize=(num_cols * 2, num_rows * 2))\n",
        "\n",
        "    for i, ax in enumerate(axes.flat):\n",
        "        if i < C:\n",
        "            ax.imshow(feature_maps[0, i, :, :], cmap='binary')\n",
        "            ax.axis('off')\n",
        "        else:\n",
        "            ax.axis('off')\n",
        "    plt.suptitle(title, fontsize=12)\n",
        "    plt.show()\n",
        "\n",
        "\n",
        "layers = ['conv1','conv2','conv3']\n",
        "titles = ['1e couche conv','2e couche conv','3e couche conv']\n",
        "\n",
        "for i in range (len(layers)) :\n",
        "  plot_feature_maps(titles[i],activations[layers[i]],num_cols=8)"
      ]
    },
    {
      "cell_type": "markdown",
      "metadata": {
        "id": "jX61JQtatNe-"
      },
      "source": [
        "# **Les poissons c'est bien, avoir un réseau qui marche c'est mieux**\n",
        "\n"
      ]
    },
    {
      "cell_type": "markdown",
      "metadata": {
        "id": "hS8cwL9VtYCa"
      },
      "source": [
        "C'est bien beau d'apprendre à un réseau mais si ça ne marche pas, à quoi ça sert ?\n",
        "\n",
        "Malgré notre échec sur la classification de poissons, classifier par des réseaux de neurones est bien une tâche réalisable lorsque l'on a des données de qualité.\n",
        "\n",
        "Preuve ci-contre, sur des images de **chiens** et **chats**."
      ]
    },
    {
      "cell_type": "markdown",
      "source": [
        "Le réseau qu'on utilise :"
      ],
      "metadata": {
        "id": "G1ISQgl_mG7l"
      }
    },
    {
      "cell_type": "code",
      "execution_count": null,
      "metadata": {
        "id": "prLbLKwgGgdM"
      },
      "outputs": [],
      "source": [
        "class Classifier(nn.Module):\n",
        "    def __init__(self):\n",
        "        super(Classifier, self).__init__()\n",
        "\n",
        "\n",
        "        self.cnn = nn.Sequential(                                               # dimensions entrée                 : [1, 128, 128]\n",
        "            nn.Conv2d(1, 64, 3, 1, 1),                                          # dimensions sortie de cette couche : [64, 128, 128]\n",
        "            nn.BatchNorm2d(64),\n",
        "            nn.ReLU(),\n",
        "            nn.MaxPool2d(2, 2, 0),                                              # dimensions sortie de cette couche : [64, 64, 64]\n",
        "\n",
        "            nn.Conv2d(64, 128, 3, 1, 1),                                        # dimensions sortie de cette couche : [128, 64, 64]\n",
        "            nn.BatchNorm2d(128),\n",
        "            nn.ReLU(),\n",
        "            nn.MaxPool2d(2, 2, 0),                                              # dimensions sortie de cette couche : [128, 32, 32]\n",
        "\n",
        "            nn.Conv2d(128, 256, 3, 1, 1),                                       # dimensions sortie de cette couche : [256, 32, 32]\n",
        "            nn.BatchNorm2d(256),\n",
        "            nn.ReLU(),\n",
        "            nn.MaxPool2d(2, 2, 0),                                              # dimensions sortie de cette couche : [256, 16, 16]\n",
        "\n",
        "            nn.Conv2d(256, 512, 3, 1, 1),                                       # dimensions sortie de cette couche : [512, 16, 16]\n",
        "            nn.BatchNorm2d(512),\n",
        "            nn.ReLU(),\n",
        "            nn.MaxPool2d(2, 2, 0),                                              # dimensions sortie de cette couche : [512, 8, 8]\n",
        "\n",
        "            nn.Conv2d(512, 512, 3, 1, 1),                                       # dimensions sortie de cette couche : [512, 8, 8]\n",
        "            nn.BatchNorm2d(512),\n",
        "            nn.ReLU(),\n",
        "            nn.MaxPool2d(2, 2, 0),                                              # dimensions sortie de cette couche : [512, 4, 4]\n",
        "        )\n",
        "        self.fc = nn.Sequential(\n",
        "            nn.Linear(512*4*4, 1024),\n",
        "            nn.ReLU(),\n",
        "            nn.Linear(1024, 512),\n",
        "            nn.ReLU(),\n",
        "            nn.Linear(512, 128),\n",
        "            nn.ReLU(),\n",
        "            nn.Linear(128,2)\n",
        "        )\n",
        "\n",
        "    def forward(self, x):\n",
        "        out = self.cnn(x)\n",
        "        out = out.view(out.size()[0], -1)\n",
        "        return self.fc(out)\n",
        "\n",
        "model = Classifier()"
      ]
    },
    {
      "cell_type": "code",
      "source": [
        "summary(model,(1,128,128))"
      ],
      "metadata": {
        "id": "Mzh45-toxs4d"
      },
      "execution_count": null,
      "outputs": []
    },
    {
      "cell_type": "markdown",
      "source": [
        "On a là un réseau à mi-chemin entre les deux modèles crées au dessus, avec 12 millions de paramètres.\n",
        "\n",
        "L'apprentissage a été réalisé de mon côté sur ~ 25000 images, 12500 de chats et 12500 de chiens.\n",
        "\n",
        "Les images ont été prise en dimension 128x128, avec un seul canal et non pas trois comme les images RGB exploités avant."
      ],
      "metadata": {
        "id": "ysN4tyNC48Bw"
      }
    },
    {
      "cell_type": "code",
      "execution_count": null,
      "metadata": {
        "id": "3G8cmjLF_HbE"
      },
      "outputs": [],
      "source": [
        "loaded_data = torch.load('/content/Formation-Introduction-Deep-Learning/Fish Dataset/saved_model_catdog.pth')\n",
        "\n",
        "loaded_model_weights = loaded_data['model_weights']\n",
        "\n",
        "classes = [\"Cat\",\"Dog\"]\n"
      ]
    },
    {
      "cell_type": "code",
      "source": [
        "model.load_state_dict(loaded_model_weights)                                     # On charge les poids dans notre modèle"
      ],
      "metadata": {
        "id": "z997lKHl5WTN"
      },
      "execution_count": null,
      "outputs": []
    },
    {
      "cell_type": "markdown",
      "source": [
        "On observe les données d'apprentissage :"
      ],
      "metadata": {
        "id": "QYadfvdq3vO2"
      }
    },
    {
      "cell_type": "code",
      "source": [
        "from PIL import Image\n",
        "\n",
        "image_path = \"/content/Formation-Introduction-Deep-Learning/Fish Dataset/output.png\"\n",
        "img = Image.open(image_path)\n",
        "\n",
        "img\n"
      ],
      "metadata": {
        "id": "dAHisJXa5ohx"
      },
      "execution_count": null,
      "outputs": []
    },
    {
      "cell_type": "code",
      "execution_count": null,
      "metadata": {
        "id": "C1ipe8Nguaaz"
      },
      "outputs": [],
      "source": [
        "# Petite fonction pour insérer un url d'image à insérer dans notre réseau pour une prédiction\n",
        "\n",
        "def prediction(img_url):\n",
        "    file_name = \"image.jpg\"\n",
        "    !wget -O {file_name} {img_url} &> /dev/null\n",
        "    img_path =\"/content/\" + str(file_name)\n",
        "    img = Image.open(img_path)\n",
        "\n",
        "    #Fonction de transformation qu'on applique à chaque image : changement de la taille en 224x224, conversion en tenseur\n",
        "    transform2 = T.Compose([\n",
        "        T.Resize((128,128)),                                                    # Taille mise en 224 x 224\n",
        "        T.Grayscale(num_output_channels=1),\n",
        "        T.ToTensor()                                                            # Format tenseur\n",
        "    ])\n",
        "\n",
        "    img2 = transform2(img)\n",
        "\n",
        "    img3 = img2.permute(1, 2, 0)                                                # Permutation des dimensions pour passer de (3, 224, 224) à (224, 224, 3)\n",
        "    img3 = img3.numpy()                                                         # Convertir en tableau NumPy\n",
        "    img3 = img3.clip(0, 1)                                                      # S'assurer que les valeurs sont comprises entre 0 et 1\n",
        "\n",
        "    # image d'origine                                                           # On affichge l'image d'origine\n",
        "    plt.subplot(1,2,1)\n",
        "    plt.imshow(img)\n",
        "    plt.axis('off')\n",
        "    plt.title(\"Image d'origine\")\n",
        "\n",
        "    # image transformée                                                         # On affiche l'image transformée (i.e mise en tenseur et mise en taille 224 x 224)\n",
        "    plt.subplot(1,2,2)\n",
        "    plt.imshow(img3)\n",
        "    plt.axis('off')  # Désactiver les axes\n",
        "    plt.title('Image transformée')\n",
        "\n",
        "    plt.show()\n",
        "\n",
        "    img2 = img2\n",
        "    img2 = img2.view([-1, 1, 128, 128])\n",
        "\n",
        "    model.eval()\n",
        "    with torch.no_grad():\n",
        "      outputs = model(img2)\n",
        "      predict = torch.max(outputs.data, 1)[1]\n",
        "\n",
        "    !rm -r {img_path}\n",
        "\n",
        "    print(f\"Our network has predicted that this is a : \" + classes[int(predict)])\n"
      ]
    },
    {
      "cell_type": "code",
      "execution_count": null,
      "metadata": {
        "id": "i-eUoxLj4Ff8"
      },
      "outputs": [],
      "source": [
        "Urls = [\"https://thumbs.dreamstime.com/b/crabot-de-chien-d-arr%C3%AAt-d-21668976.jpg\",\n",
        "        \"https://cdn.pixabay.com/photo/2021/07/13/11/34/cat-6463284_640.jpg\",\n",
        "        \"https://img.freepik.com/photos-gratuite/adorable-chien-basenji-brun-blanc-souriant-donnant-haut-cinq-isole-blanc_346278-1657.jpg\",\n",
        "        \"https://www.shutterstock.com/image-photo/charming-kitten-on-gray-background-600nw-2322539671.jpg\"\n",
        "\n",
        "        ]\n",
        "\n",
        "for url in Urls:\n",
        "  prediction(url)"
      ]
    },
    {
      "cell_type": "markdown",
      "source": [
        "On s'aperçoit là qu'avec un bon réseau et surtout un jeu de données de qualité, notre modèle est désormais capable de s'appliquer à des images extérieures au dataset d'entraînement."
      ],
      "metadata": {
        "id": "imz4MrhA6Jg2"
      }
    },
    {
      "cell_type": "markdown",
      "metadata": {
        "id": "GKrGaRFh6Scr"
      },
      "source": [
        "# **Questionnaire de satisfaction**\n",
        "\n",
        "~ 3-5 minutes\n",
        "\n",
        "Merci de le remplir si vous avez le temps, avoir des retours nous est crucial.\n",
        "\n",
        "https://sondage.umontpellier.fr/ls/index.php/918278?lang=fr\n"
      ]
    }
  ],
  "metadata": {
    "colab": {
      "provenance": [],
      "include_colab_link": true
    },
    "kernelspec": {
      "display_name": "Python 3",
      "name": "python3"
    },
    "language_info": {
      "name": "python"
    }
  },
  "nbformat": 4,
  "nbformat_minor": 0
}